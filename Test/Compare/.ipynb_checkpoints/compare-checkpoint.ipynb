{
 "cells": [
  {
   "cell_type": "markdown",
   "metadata": {},
   "source": [
    "# Imports"
   ]
  },
  {
   "cell_type": "code",
   "execution_count": 1,
   "metadata": {
    "collapsed": false
   },
   "outputs": [],
   "source": [
    "import pandas as pd\n",
    "import numpy as np"
   ]
  },
  {
   "cell_type": "code",
   "execution_count": 2,
   "metadata": {
    "collapsed": false
   },
   "outputs": [
    {
     "name": "stderr",
     "output_type": "stream",
     "text": [
      "C:\\dev\\bin\\Anaconda2\\envs\\1.8.6.post502\\lib\\site-packages\\gazprom\\mt\\pricing\\models\\lsmc\\_exercise.py:4: UserWarning: gazprom.mt.pricing.models.lsmc._exercise is deprecated. Please use gazprom.mt.pricing.models.exercise instead.\n",
      "  warn(\"gazprom.mt.pricing.models.lsmc._exercise is deprecated. Please use \"\n"
     ]
    }
   ],
   "source": [
    "from gazprom.mt.pricing.models.swing.fixed_price import FixedPriceSwing\n",
    "from gazprom.mt.pricing.models.swing.test.swing_market_data import build_swing\n",
    "from gazprom.mt.pricing.models.exercise import FixedDailyOffset"
   ]
  },
  {
   "cell_type": "code",
   "execution_count": 3,
   "metadata": {
    "collapsed": false
   },
   "outputs": [],
   "source": [
    "from gazprom.mt.pricing.environment.environment import Environment\n",
    "from gazprom.mt.pricing.environment.market_data import CurveData\n",
    "from gazprom.mt.pricing.models.timeseries.gbmsimulator.volatility_model import VolModelBlended\n",
    "from gazprom.mt.pricing.models.timeseries.market_data import MonthlyBlendedData"
   ]
  },
  {
   "cell_type": "code",
   "execution_count": 15,
   "metadata": {
    "collapsed": true
   },
   "outputs": [],
   "source": [
    "from gazprom.mt.pricing.lib.financial import calcTe"
   ]
  },
  {
   "cell_type": "code",
   "execution_count": 4,
   "metadata": {
    "collapsed": false
   },
   "outputs": [
    {
     "name": "stderr",
     "output_type": "stream",
     "text": [
      ":0: FutureWarning: IPython widgets are experimental and may change in the future.\n"
     ]
    }
   ],
   "source": [
    "import seaborn as sns\n",
    "import matplotlib.pyplot as plt\n",
    "%matplotlib inline"
   ]
  },
  {
   "cell_type": "markdown",
   "metadata": {
    "collapsed": true
   },
   "source": [
    "# Payoff"
   ]
  },
  {
   "cell_type": "code",
   "execution_count": 5,
   "metadata": {
    "collapsed": false
   },
   "outputs": [],
   "source": [
    "mkt = 'TTF'\n",
    "ccy = 'EUR'\n",
    "\n",
    "start_date = pd.datetime(2017, 3, 1)\n",
    "end_date = pd.datetime(2017, 3, 20)\n",
    "exercise_dates = pd.date_range(start_date, end_date, freq='D')\n",
    "tcq_max = 1.0\n",
    "tcq_min = 0.0\n",
    "dcq_max = 1.0\n",
    "dcq_min = 0.0\n",
    "\n",
    "strike = 25.5\n",
    "\n",
    "kwargs_payoff = {'strike': strike, \n",
    "                 'dcq_max': dcq_max, 'dcq_min': dcq_min, 'early_exercise': FixedDailyOffset(), \n",
    "                 'market': mkt, 'ccy': ccy, 'payoff_class': FixedPriceSwing}"
   ]
  },
  {
   "cell_type": "code",
   "execution_count": 6,
   "metadata": {
    "collapsed": false
   },
   "outputs": [],
   "source": [
    "payoff = build_swing('call', 'buy', start_date, end_date, tcq_max, tcq_min, **kwargs_payoff)"
   ]
  },
  {
   "cell_type": "code",
   "execution_count": 7,
   "metadata": {
    "collapsed": false
   },
   "outputs": [
    {
     "name": "stdout",
     "output_type": "stream",
     "text": [
      "FixedPriceSwing [buy, EUR]: market=TTF, type=call,start_date=01-Mar-2017, end_date=20-Mar-2017\n",
      "# constraints=SwingConstraints(_dcq_min=0.0, _tcq_min=0.0, _tcq_max=1.0, _dcq_max=1.0)\n",
      "# strike=\n",
      "2017-03-01    25.5\n",
      "2017-03-02    25.5\n",
      "2017-03-03    25.5\n",
      "2017-03-04    25.5\n",
      "2017-03-05    25.5\n",
      "2017-03-06    25.5\n",
      "2017-03-07    25.5\n",
      "2017-03-08    25.5\n",
      "2017-03-09    25.5\n",
      "2017-03-10    25.5\n",
      "2017-03-11    25.5\n",
      "2017-03-12    25.5\n",
      "2017-03-13    25.5\n",
      "2017-03-14    25.5\n",
      "2017-03-15    25.5\n",
      "2017-03-16    25.5\n",
      "2017-03-17    25.5\n",
      "2017-03-18    25.5\n",
      "2017-03-19    25.5\n",
      "2017-03-20    25.5\n",
      "Freq: D, dtype: float64\n"
     ]
    }
   ],
   "source": [
    "print(payoff)"
   ]
  },
  {
   "cell_type": "markdown",
   "metadata": {
    "collapsed": true
   },
   "source": [
    "# Environment"
   ]
  },
  {
   "cell_type": "code",
   "execution_count": 8,
   "metadata": {
    "collapsed": false
   },
   "outputs": [],
   "source": [
    "valuation_date = pd.datetime(2017, 2, 28)\n",
    "\n",
    "aux = 25.5;\n",
    "# aux = 23.0 + 10.0 * np.sin(2. * np.pi * np.arange(1, 21) / 20);\n",
    "# aux = np.concatenate((aux[0:1], aux));\n",
    "# fc = pd.Series(25.5, index=pd.date_range(valuation_date, pd.datetime(2017, 3, 20)))\n",
    "fc = pd.Series(aux, index=pd.date_range(valuation_date, pd.datetime(2017, 3, 20)))\n",
    "\n",
    "fc.loc[pd.datetime(2017, 3, 7)] = 33.6\n",
    "# fc.loc[pd.datetime(2017, 3, 14)] = 33.6\n",
    "fc.loc[pd.datetime(2017, 3, 19)] = 33.6\n",
    "\n",
    "ir = pd.Series(0.0245, index=exercise_dates)\n",
    "\n",
    "ctc = pd.date_range(pd.datetime(2017, 1, 1), pd.datetime(2017, 4, 1), freq='MS')\n",
    "ctc_expiries = pd.Series(ctc - pd.datetools.Day(), index=ctc)\n",
    "option_expiries = pd.Series(ctc - pd.datetools.MonthEnd(), index=ctc)\n",
    "\n",
    "volm = pd.Series(0.21, index=ctc)\n",
    "volb = pd.Series(0.45, index=ctc)\n",
    "\n",
    "env = Environment(valuation_date, ccy)\n",
    "env.add_price(ccy, CurveData(ir))\n",
    "env.add_price(mkt, CurveData(fc))\n",
    "# env.add_expiry_option(mkt, option_expiries)\n",
    "\n",
    "mbdata = MonthlyBlendedData(vol_monthly=volm, vol_blended=volb, option_expiry=option_expiries)\n",
    "env.add_vol(mkt, mbdata, VolModelBlended)"
   ]
  },
  {
   "cell_type": "code",
   "execution_count": 9,
   "metadata": {
    "collapsed": false
   },
   "outputs": [
    {
     "data": {
      "image/png": "[encoded data removed]",
      "text/plain": [
       "<matplotlib.figure.Figure at 0xc8031d0>"
      ]
     },
     "metadata": {},
     "output_type": "display_data"
    }
   ],
   "source": [
    "plt.figure()\n",
    "fc.plot()\n",
    "plt.legend(['fc'])\n",
    "plt.tight_layout()\n",
    "plt.show;"
   ]
  },
  {
   "cell_type": "code",
   "execution_count": 10,
   "metadata": {
    "collapsed": false
   },
   "outputs": [
    {
     "name": "stdout",
     "output_type": "stream",
     "text": [
      "Environment (intraday=False):\n",
      "## _STATE\n",
      "- currency: IdentityData: data_args={'data_type': <type 'basestring'>}, data:\n",
      "EUR\n",
      "- intraday: IdentityData: data_args={'data_type': <type 'bool'>}, data:\n",
      "False\n",
      "- pricing_date: IdentityData: data_args={'data_type': <type 'datetime.date'>}, data:\n",
      "2017-02-28 00:00:00\n",
      "## TTF\n",
      "- vol_params: IdentityData: data_args={'data_type': <type 'object'>}, data:\n",
      "{'offset': 14}\n",
      "- vol_model: VolModelFunction: vol_kwargs={'builder': 'default', 'calibrator': None}, vol_class=<class 'gazprom.mt.pricing.models.timeseries.gbmsimulator.volatility_model.VolModelBlended'>, market_data=<gazprom.mt.pricing.models.timeseries.market_data.MonthlyBlendedData object at 0x000000000C899630>, builder=<gazprom.mt.pricing.environment.data_builders.DefaultDataBuilder object at 0x000000000C899470>, data_args={}, data:\n",
      "(KeySpec(key_type=pricing_date, apply_early=False, key=_STATE), KeySpec(key_type=vol_monthly, apply_early=False, key=TTF), KeySpec(key_type=vol_blended, apply_early=False, key=TTF), KeySpec(key_type=option_expiry, apply_early=False, key=TTF), KeySpec(key_type=vol_params, apply_early=False, key=TTF))\n",
      "- price: CurveData: builder=<gazprom.mt.pricing.environment.data_builders.DefaultDataBuilder object at 0x000000000C81EAC8>, allow_negative=False, is_corr=False, data_args={'builder': 'default'}, data:\n",
      "2017-02-28    25.5\n",
      "2017-03-01    25.5\n",
      "2017-03-02    25.5\n",
      "2017-03-03    25.5\n",
      "2017-03-04    25.5\n",
      "2017-03-05    25.5\n",
      "2017-03-06    25.5\n",
      "2017-03-07    33.6\n",
      "2017-03-08    25.5\n",
      "2017-03-09    25.5\n",
      "2017-03-10    25.5\n",
      "2017-03-11    25.5\n",
      "2017-03-12    25.5\n",
      "2017-03-13    25.5\n",
      "2017-03-14    25.5\n",
      "2017-03-15    25.5\n",
      "2017-03-16    25.5\n",
      "2017-03-17    25.5\n",
      "2017-03-18    25.5\n",
      "2017-03-19    33.6\n",
      "2017-03-20    25.5\n",
      "Freq: D, dtype: float64\n",
      "- vol_monthly: CurveData: builder=<gazprom.mt.pricing.environment.data_builders.DefaultDataBuilder object at 0x000000000C81EEF0>, allow_negative=False, is_corr=False, data_args={'builder': 'default'}, data:\n",
      "2017-01-01    0.21\n",
      "2017-02-01    0.21\n",
      "2017-03-01    0.21\n",
      "2017-04-01    0.21\n",
      "Freq: MS, dtype: float64\n",
      "- vol_blended: CurveData: builder=<gazprom.mt.pricing.environment.data_builders.DefaultDataBuilder object at 0x000000000C899080>, allow_negative=False, is_corr=False, data_args={'builder': 'default'}, data:\n",
      "2017-01-01    0.45\n",
      "2017-02-01    0.45\n",
      "2017-03-01    0.45\n",
      "2017-04-01    0.45\n",
      "Freq: MS, dtype: float64\n",
      "- option_expiry: CurveData: builder=<gazprom.mt.pricing.environment.data_builders.DefaultDataBuilder object at 0x000000000C899438>, allow_negative=False, is_corr=False, data_args={'builder': 'default'}, data:\n",
      "2017-01-01   2016-12-31\n",
      "2017-02-01   2017-01-31\n",
      "2017-03-01   2017-02-28\n",
      "2017-04-01   2017-03-31\n",
      "Freq: MS, dtype: datetime64[ns]\n",
      "## EUR\n",
      "- price: CurveData: builder=<gazprom.mt.pricing.environment.data_builders.DefaultDataBuilder object at 0x000000000C81E9B0>, allow_negative=False, is_corr=False, data_args={'builder': 'default'}, data:\n",
      "2017-03-01    0.0245\n",
      "2017-03-02    0.0245\n",
      "2017-03-03    0.0245\n",
      "2017-03-04    0.0245\n",
      "2017-03-05    0.0245\n",
      "2017-03-06    0.0245\n",
      "2017-03-07    0.0245\n",
      "2017-03-08    0.0245\n",
      "2017-03-09    0.0245\n",
      "2017-03-10    0.0245\n",
      "2017-03-11    0.0245\n",
      "2017-03-12    0.0245\n",
      "2017-03-13    0.0245\n",
      "2017-03-14    0.0245\n",
      "2017-03-15    0.0245\n",
      "2017-03-16    0.0245\n",
      "2017-03-17    0.0245\n",
      "2017-03-18    0.0245\n",
      "2017-03-19    0.0245\n",
      "2017-03-20    0.0245\n",
      "Freq: D, dtype: float64\n",
      "\n"
     ]
    }
   ],
   "source": [
    "print(env)"
   ]
  },
  {
   "cell_type": "markdown",
   "metadata": {
    "collapsed": true
   },
   "source": [
    "# Valuation"
   ]
  },
  {
   "cell_type": "code",
   "execution_count": 11,
   "metadata": {
    "collapsed": false
   },
   "outputs": [],
   "source": [
    "simulator_params = {'seed': 12321312, 'simulator': 'SimulatorOneFactor'}\n",
    "lsmc_params=dict(nsims_fwd=30000, nsims_bwd=30000)\n",
    "\n",
    "res = payoff.pv_greeks(env, simulator_params=simulator_params, lsmc_params=lsmc_params, debug=True, intrinsic=False)"
   ]
  },
  {
   "cell_type": "code",
   "execution_count": 12,
   "metadata": {
    "collapsed": false
   },
   "outputs": [
    {
     "data": {
      "text/plain": [
       "['sims',\n",
       " 'cash_strike',\n",
       " 'pv',\n",
       " 'actions_paths',\n",
       " 'triggers',\n",
       " 'lsmc_mesh',\n",
       " 'vega_monthly',\n",
       " 'fwd_sims',\n",
       " 'cash',\n",
       " 'actions',\n",
       " 'vega_blended',\n",
       " 'spot_sims',\n",
       " 'delta',\n",
       " 'theta',\n",
       " 'price_model',\n",
       " 'cashflows']"
      ]
     },
     "execution_count": 12,
     "metadata": {},
     "output_type": "execute_result"
    }
   ],
   "source": [
    "res.keys()"
   ]
  },
  {
   "cell_type": "code",
   "execution_count": 13,
   "metadata": {
    "collapsed": false
   },
   "outputs": [
    {
     "data": {
      "text/plain": [
       "SV(      8.0986,     0.0152)"
      ]
     },
     "execution_count": 13,
     "metadata": {},
     "output_type": "execute_result"
    }
   ],
   "source": [
    "res['pv']"
   ]
  },
  {
   "cell_type": "code",
   "execution_count": 14,
   "metadata": {
    "collapsed": false,
    "scrolled": true
   },
   "outputs": [
    {
     "data": {
      "text/plain": [
       "SVFrame.value:\n",
       "                  TTF\n",
       "2017-03-01  0.000000\n",
       "2017-03-02  0.000000\n",
       "2017-03-03  0.000000\n",
       "2017-03-04  0.000000\n",
       "2017-03-05  0.000000\n",
       "2017-03-06  0.000000\n",
       "2017-03-07  0.676945\n",
       "2017-03-08  0.000000\n",
       "2017-03-09  0.000000\n",
       "2017-03-10  0.000000\n",
       "2017-03-11  0.000000\n",
       "2017-03-12  0.000000\n",
       "2017-03-13  0.000000\n",
       "2017-03-14  0.000000\n",
       "2017-03-15  0.000000\n",
       "2017-03-16  0.000000\n",
       "2017-03-17  0.000000\n",
       "2017-03-18  0.000000\n",
       "2017-03-19  0.319358\n",
       "2017-03-20  0.000000\n",
       "SVFrame.err:\n",
       "                  TTF\n",
       "2017-03-01  0.000000\n",
       "2017-03-02  0.000000\n",
       "2017-03-03  0.000000\n",
       "2017-03-04  0.000000\n",
       "2017-03-05  0.000000\n",
       "2017-03-06  0.000000\n",
       "2017-03-07  0.002646\n",
       "2017-03-08  0.000000\n",
       "2017-03-09  0.000000\n",
       "2017-03-10  0.000000\n",
       "2017-03-11  0.000000\n",
       "2017-03-12  0.000000\n",
       "2017-03-13  0.000000\n",
       "2017-03-14  0.000000\n",
       "2017-03-15  0.000000\n",
       "2017-03-16  0.000000\n",
       "2017-03-17  0.000000\n",
       "2017-03-18  0.000000\n",
       "2017-03-19  0.002783\n",
       "2017-03-20  0.000000"
      ]
     },
     "execution_count": 14,
     "metadata": {},
     "output_type": "execute_result"
    }
   ],
   "source": [
    "res['delta']"
   ]
  },
  {
   "cell_type": "code",
   "execution_count": 15,
   "metadata": {
    "collapsed": false
   },
   "outputs": [
    {
     "data": {
      "text/plain": [
       "SVFrame.value:\n",
       "                  TTF\n",
       "2017-03-01  0.000000\n",
       "2017-03-02  0.000000\n",
       "2017-03-03  0.000000\n",
       "2017-03-04  0.000000\n",
       "2017-03-05  0.000000\n",
       "2017-03-06  0.000000\n",
       "2017-03-07 -0.007573\n",
       "2017-03-08  0.000000\n",
       "2017-03-09  0.000000\n",
       "2017-03-10  0.000000\n",
       "2017-03-11  0.000000\n",
       "2017-03-12  0.000000\n",
       "2017-03-13  0.000000\n",
       "2017-03-14  0.000000\n",
       "2017-03-15  0.000000\n",
       "2017-03-16  0.000000\n",
       "2017-03-17  0.000000\n",
       "2017-03-18  0.000000\n",
       "2017-03-19  0.008320\n",
       "2017-03-20  0.000000\n",
       "SVFrame.err:\n",
       "                  TTF\n",
       "2017-03-01  0.000000\n",
       "2017-03-02  0.000000\n",
       "2017-03-03  0.000000\n",
       "2017-03-04  0.000000\n",
       "2017-03-05  0.000000\n",
       "2017-03-06  0.000000\n",
       "2017-03-07  0.000123\n",
       "2017-03-08  0.000000\n",
       "2017-03-09  0.000000\n",
       "2017-03-10  0.000000\n",
       "2017-03-11  0.000000\n",
       "2017-03-12  0.000000\n",
       "2017-03-13  0.000000\n",
       "2017-03-14  0.000000\n",
       "2017-03-15  0.000000\n",
       "2017-03-16  0.000000\n",
       "2017-03-17  0.000000\n",
       "2017-03-18  0.000000\n",
       "2017-03-19  0.000309\n",
       "2017-03-20  0.000000"
      ]
     },
     "execution_count": 15,
     "metadata": {},
     "output_type": "execute_result"
    }
   ],
   "source": [
    "res['vega_blended']"
   ]
  },
  {
   "cell_type": "code",
   "execution_count": 16,
   "metadata": {
    "collapsed": false
   },
   "outputs": [
    {
     "data": {
      "text/plain": [
       "2017-03-01    SV(     -0.0000,     0.0000)\n",
       "2017-03-02    SV(     -0.0000,     0.0000)\n",
       "2017-03-03    SV(     -0.0000,     0.0000)\n",
       "2017-03-04    SV(     -0.0000,     0.0000)\n",
       "2017-03-05    SV(     -0.0000,     0.0000)\n",
       "2017-03-06    SV(     -0.0000,     0.0000)\n",
       "2017-03-07    SV(      0.6866,     0.0027)\n",
       "2017-03-08    SV(     -0.0000,     0.0000)\n",
       "2017-03-09    SV(     -0.0000,     0.0000)\n",
       "2017-03-10    SV(     -0.0000,     0.0000)\n",
       "2017-03-11    SV(     -0.0000,     0.0000)\n",
       "2017-03-12    SV(     -0.0000,     0.0000)\n",
       "2017-03-13    SV(     -0.0000,     0.0000)\n",
       "2017-03-14    SV(     -0.0000,     0.0000)\n",
       "2017-03-15    SV(     -0.0000,     0.0000)\n",
       "2017-03-16    SV(     -0.0000,     0.0000)\n",
       "2017-03-17    SV(     -0.0000,     0.0000)\n",
       "2017-03-18    SV(     -0.0000,     0.0000)\n",
       "2017-03-19    SV(      0.3093,     0.0027)\n",
       "2017-03-20    SV(     -0.0000,     0.0000)\n",
       "Freq: D, dtype: object"
      ]
     },
     "execution_count": 16,
     "metadata": {},
     "output_type": "execute_result"
    }
   ],
   "source": [
    "res['actions']"
   ]
  },
  {
   "cell_type": "code",
   "execution_count": 17,
   "metadata": {
    "collapsed": false
   },
   "outputs": [
    {
     "data": {
      "text/plain": [
       "VolModelBlended(_vol_blended=2017-01-01    0.45\n",
       "2017-02-01    0.45\n",
       "2017-03-01    0.45\n",
       "2017-04-01    0.45\n",
       "Freq: MS, dtype: float64, _valid_index=DatetimeIndex(['2017-01-01', '2017-02-01', '2017-03-01', '2017-04-01'], dtype='datetime64[ns]', freq='MS'), _blended_offset=14, _monthly_expiries=2017-01-01   2016-12-31\n",
       "2017-02-01   2017-01-31\n",
       "2017-03-01   2017-02-28\n",
       "2017-04-01   2017-03-31\n",
       "Freq: MS, dtype: datetime64[ns], _vol_monthly=2017-01-01    0.21\n",
       "2017-02-01    0.21\n",
       "2017-03-01    0.21\n",
       "2017-04-01    0.21\n",
       "Freq: MS, dtype: float64, implied_vols_db=2017-01-01    0.45\n",
       "2017-02-01    0.45\n",
       "2017-03-01    0.45\n",
       "2017-04-01    0.45\n",
       "Freq: MS, dtype: float64)"
      ]
     },
     "execution_count": 17,
     "metadata": {},
     "output_type": "execute_result"
    }
   ],
   "source": [
    "res['price_model'].vol_model"
   ]
  },
  {
   "cell_type": "code",
   "execution_count": 17,
   "metadata": {
    "collapsed": false
   },
   "outputs": [
    {
     "data": {
      "text/plain": [
       "2017-03-01    0.45\n",
       "2017-03-02    0.45\n",
       "2017-03-03    0.45\n",
       "2017-03-04    0.45\n",
       "2017-03-05    0.45\n",
       "2017-03-06    0.45\n",
       "2017-03-07    0.45\n",
       "2017-03-08    0.45\n",
       "2017-03-09    0.45\n",
       "2017-03-10    0.45\n",
       "2017-03-11    0.45\n",
       "2017-03-12    0.45\n",
       "2017-03-13    0.45\n",
       "2017-03-14    0.45\n",
       "2017-03-15    0.45\n",
       "2017-03-16    0.45\n",
       "2017-03-17    0.45\n",
       "2017-03-18    0.45\n",
       "2017-03-19    0.45\n",
       "2017-03-20    0.45\n",
       "Freq: D, dtype: float64"
      ]
     },
     "execution_count": 17,
     "metadata": {},
     "output_type": "execute_result"
    }
   ],
   "source": [
    "term_vol = res['price_model'].vol_model.terminal_vol(valuation_date, payoff.contract_dates, payoff.contract_dates)[0]\n",
    "term_vol"
   ]
  },
  {
   "cell_type": "code",
   "execution_count": 19,
   "metadata": {
    "collapsed": false
   },
   "outputs": [
    {
     "data": {
      "text/plain": [
       "simulation_dates\n",
       "2017-03-01    25.500000\n",
       "2017-03-02    25.499965\n",
       "2017-03-03    25.499750\n",
       "2017-03-04    25.499568\n",
       "2017-03-05    25.499680\n",
       "2017-03-06    25.499478\n",
       "2017-03-07    33.599326\n",
       "2017-03-08    25.499749\n",
       "2017-03-09    25.499560\n",
       "2017-03-10    25.499199\n",
       "2017-03-11    25.499200\n",
       "2017-03-12    25.499713\n",
       "2017-03-13    25.500249\n",
       "2017-03-14    25.500359\n",
       "2017-03-15    25.500790\n",
       "2017-03-16    25.500629\n",
       "2017-03-17    25.500701\n",
       "2017-03-18    25.501452\n",
       "2017-03-19    33.602415\n",
       "2017-03-20    25.501696\n",
       "Freq: D, dtype: float64"
      ]
     },
     "execution_count": 19,
     "metadata": {},
     "output_type": "execute_result"
    }
   ],
   "source": [
    "res['spot_sims'].mean(axis=1)"
   ]
  },
  {
   "cell_type": "code",
   "execution_count": 21,
   "metadata": {
    "collapsed": false
   },
   "outputs": [
    {
     "data": {
      "text/plain": [
       "simulation_dates\n",
       "2017-03-01    0.023547\n",
       "2017-03-02    0.033256\n",
       "2017-03-03    0.040541\n",
       "2017-03-04    0.046728\n",
       "2017-03-05    0.052399\n",
       "2017-03-06    0.057320\n",
       "2017-03-07    0.061978\n",
       "2017-03-08    0.066444\n",
       "2017-03-09    0.070390\n",
       "2017-03-10    0.074030\n",
       "2017-03-11    0.077680\n",
       "2017-03-12    0.081417\n",
       "2017-03-13    0.084994\n",
       "2017-03-14    0.088246\n",
       "2017-03-15    0.091523\n",
       "2017-03-16    0.094435\n",
       "2017-03-17    0.097361\n",
       "2017-03-18    0.100477\n",
       "2017-03-19    0.103354\n",
       "2017-03-20    0.105952\n",
       "Freq: D, dtype: float64"
      ]
     },
     "execution_count": 21,
     "metadata": {},
     "output_type": "execute_result"
    }
   ],
   "source": [
    "np.log(res['spot_sims']).std(axis=1)"
   ]
  },
  {
   "cell_type": "code",
   "execution_count": 138,
   "metadata": {
    "collapsed": false
   },
   "outputs": [
    {
     "data": {
      "text/plain": [
       "TTF    0.999465\n",
       "dtype: float64"
      ]
     },
     "execution_count": 138,
     "metadata": {},
     "output_type": "execute_result"
    }
   ],
   "source": [
    "res['delta'].value.sum()"
   ]
  },
  {
   "cell_type": "code",
   "execution_count": 139,
   "metadata": {
    "collapsed": false
   },
   "outputs": [
    {
     "data": {
      "text/plain": [
       "{1.0}"
      ]
     },
     "execution_count": 139,
     "metadata": {},
     "output_type": "execute_result"
    }
   ],
   "source": [
    "set(res['actions_paths'].sum(axis=0))"
   ]
  },
  {
   "cell_type": "code",
   "execution_count": 140,
   "metadata": {
    "collapsed": false
   },
   "outputs": [
    {
     "data": {
      "text/plain": [
       "2017-03-01        0\n",
       "2017-03-02        0\n",
       "2017-03-03        0\n",
       "2017-03-04        0\n",
       "2017-03-05        0\n",
       "2017-03-06        0\n",
       "2017-03-07    15603\n",
       "2017-03-08        0\n",
       "2017-03-09        0\n",
       "2017-03-10        0\n",
       "2017-03-11        0\n",
       "2017-03-12        0\n",
       "2017-03-13        0\n",
       "2017-03-14     4757\n",
       "2017-03-15        0\n",
       "2017-03-16        0\n",
       "2017-03-17        0\n",
       "2017-03-18        0\n",
       "2017-03-19     9640\n",
       "2017-03-20        0\n",
       "Freq: D, dtype: float64"
      ]
     },
     "execution_count": 140,
     "metadata": {},
     "output_type": "execute_result"
    }
   ],
   "source": [
    "res['actions_paths'].sum(axis=1)"
   ]
  },
  {
   "cell_type": "code",
   "execution_count": 142,
   "metadata": {
    "collapsed": false
   },
   "outputs": [
    {
     "data": {
      "text/plain": [
       "[0.5201, 0.15856666666666666, 0.32133333333333336]"
      ]
     },
     "execution_count": 142,
     "metadata": {},
     "output_type": "execute_result"
    }
   ],
   "source": [
    "[15603/30000., 4757/30000., 9640/30000.]"
   ]
  },
  {
   "cell_type": "code",
   "execution_count": 13,
   "metadata": {
    "collapsed": false
   },
   "outputs": [
    {
     "data": {
      "text/html": [
       "<div>\n",
       "<table border=\"1\" class=\"dataframe\">\n",
       "  <thead>\n",
       "    <tr style=\"text-align: right;\">\n",
       "      <th></th>\n",
       "      <th>0</th>\n",
       "      <th>1</th>\n",
       "      <th>2</th>\n",
       "      <th>3</th>\n",
       "      <th>4</th>\n",
       "      <th>5</th>\n",
       "      <th>6</th>\n",
       "      <th>7</th>\n",
       "      <th>8</th>\n",
       "      <th>9</th>\n",
       "      <th>...</th>\n",
       "      <th>29990</th>\n",
       "      <th>29991</th>\n",
       "      <th>29992</th>\n",
       "      <th>29993</th>\n",
       "      <th>29994</th>\n",
       "      <th>29995</th>\n",
       "      <th>29996</th>\n",
       "      <th>29997</th>\n",
       "      <th>29998</th>\n",
       "      <th>29999</th>\n",
       "    </tr>\n",
       "    <tr>\n",
       "      <th>simulation_dates</th>\n",
       "      <th></th>\n",
       "      <th></th>\n",
       "      <th></th>\n",
       "      <th></th>\n",
       "      <th></th>\n",
       "      <th></th>\n",
       "      <th></th>\n",
       "      <th></th>\n",
       "      <th></th>\n",
       "      <th></th>\n",
       "      <th></th>\n",
       "      <th></th>\n",
       "      <th></th>\n",
       "      <th></th>\n",
       "      <th></th>\n",
       "      <th></th>\n",
       "      <th></th>\n",
       "      <th></th>\n",
       "      <th></th>\n",
       "      <th></th>\n",
       "      <th></th>\n",
       "    </tr>\n",
       "  </thead>\n",
       "  <tbody>\n",
       "    <tr>\n",
       "      <th>2017-03-01</th>\n",
       "      <td>26.151669</td>\n",
       "      <td>26.416012</td>\n",
       "      <td>25.079724</td>\n",
       "      <td>25.917828</td>\n",
       "      <td>25.319812</td>\n",
       "      <td>25.469493</td>\n",
       "      <td>25.491608</td>\n",
       "      <td>23.865767</td>\n",
       "      <td>25.629175</td>\n",
       "      <td>25.645306</td>\n",
       "      <td>...</td>\n",
       "      <td>25.899752</td>\n",
       "      <td>25.788504</td>\n",
       "      <td>24.948675</td>\n",
       "      <td>25.060191</td>\n",
       "      <td>25.046148</td>\n",
       "      <td>25.283114</td>\n",
       "      <td>26.109659</td>\n",
       "      <td>25.100623</td>\n",
       "      <td>25.344437</td>\n",
       "      <td>25.596467</td>\n",
       "    </tr>\n",
       "    <tr>\n",
       "      <th>2017-03-02</th>\n",
       "      <td>26.147114</td>\n",
       "      <td>27.015033</td>\n",
       "      <td>25.799803</td>\n",
       "      <td>26.765663</td>\n",
       "      <td>24.864348</td>\n",
       "      <td>25.772411</td>\n",
       "      <td>25.365630</td>\n",
       "      <td>25.315190</td>\n",
       "      <td>25.835103</td>\n",
       "      <td>25.031334</td>\n",
       "      <td>...</td>\n",
       "      <td>26.643527</td>\n",
       "      <td>25.600508</td>\n",
       "      <td>25.193846</td>\n",
       "      <td>25.338831</td>\n",
       "      <td>24.176523</td>\n",
       "      <td>26.139461</td>\n",
       "      <td>26.733032</td>\n",
       "      <td>24.617736</td>\n",
       "      <td>26.393647</td>\n",
       "      <td>25.634409</td>\n",
       "    </tr>\n",
       "    <tr>\n",
       "      <th>2017-03-03</th>\n",
       "      <td>24.935969</td>\n",
       "      <td>26.096618</td>\n",
       "      <td>25.501151</td>\n",
       "      <td>26.314081</td>\n",
       "      <td>25.488193</td>\n",
       "      <td>26.382150</td>\n",
       "      <td>24.607075</td>\n",
       "      <td>25.109743</td>\n",
       "      <td>26.397819</td>\n",
       "      <td>25.071606</td>\n",
       "      <td>...</td>\n",
       "      <td>26.696067</td>\n",
       "      <td>25.955029</td>\n",
       "      <td>26.704301</td>\n",
       "      <td>24.448812</td>\n",
       "      <td>23.874870</td>\n",
       "      <td>25.868563</td>\n",
       "      <td>27.810034</td>\n",
       "      <td>24.990777</td>\n",
       "      <td>26.493381</td>\n",
       "      <td>25.023919</td>\n",
       "    </tr>\n",
       "    <tr>\n",
       "      <th>2017-03-04</th>\n",
       "      <td>25.357130</td>\n",
       "      <td>26.651824</td>\n",
       "      <td>25.995279</td>\n",
       "      <td>25.781726</td>\n",
       "      <td>25.928387</td>\n",
       "      <td>26.151872</td>\n",
       "      <td>24.566210</td>\n",
       "      <td>25.557230</td>\n",
       "      <td>26.195354</td>\n",
       "      <td>25.102472</td>\n",
       "      <td>...</td>\n",
       "      <td>26.616266</td>\n",
       "      <td>25.243854</td>\n",
       "      <td>26.020062</td>\n",
       "      <td>24.996698</td>\n",
       "      <td>24.230821</td>\n",
       "      <td>26.888667</td>\n",
       "      <td>26.879744</td>\n",
       "      <td>25.305627</td>\n",
       "      <td>26.867368</td>\n",
       "      <td>24.645693</td>\n",
       "    </tr>\n",
       "    <tr>\n",
       "      <th>2017-03-05</th>\n",
       "      <td>24.860761</td>\n",
       "      <td>27.362107</td>\n",
       "      <td>25.229531</td>\n",
       "      <td>26.250030</td>\n",
       "      <td>26.041596</td>\n",
       "      <td>25.991767</td>\n",
       "      <td>24.504283</td>\n",
       "      <td>25.235708</td>\n",
       "      <td>25.970367</td>\n",
       "      <td>25.113059</td>\n",
       "      <td>...</td>\n",
       "      <td>26.584387</td>\n",
       "      <td>26.122310</td>\n",
       "      <td>26.771809</td>\n",
       "      <td>24.438304</td>\n",
       "      <td>24.363062</td>\n",
       "      <td>26.836107</td>\n",
       "      <td>26.950051</td>\n",
       "      <td>25.590349</td>\n",
       "      <td>27.588696</td>\n",
       "      <td>24.550033</td>\n",
       "    </tr>\n",
       "    <tr>\n",
       "      <th>2017-03-06</th>\n",
       "      <td>24.994747</td>\n",
       "      <td>27.261709</td>\n",
       "      <td>24.822468</td>\n",
       "      <td>25.743182</td>\n",
       "      <td>26.772069</td>\n",
       "      <td>25.280613</td>\n",
       "      <td>24.099091</td>\n",
       "      <td>25.257133</td>\n",
       "      <td>26.207163</td>\n",
       "      <td>25.436759</td>\n",
       "      <td>...</td>\n",
       "      <td>26.331476</td>\n",
       "      <td>26.643466</td>\n",
       "      <td>27.208225</td>\n",
       "      <td>24.567995</td>\n",
       "      <td>24.019165</td>\n",
       "      <td>26.176408</td>\n",
       "      <td>27.043781</td>\n",
       "      <td>25.661733</td>\n",
       "      <td>28.064559</td>\n",
       "      <td>24.234708</td>\n",
       "    </tr>\n",
       "    <tr>\n",
       "      <th>2017-03-07</th>\n",
       "      <td>33.749465</td>\n",
       "      <td>35.753520</td>\n",
       "      <td>33.085215</td>\n",
       "      <td>33.582408</td>\n",
       "      <td>35.859949</td>\n",
       "      <td>32.632834</td>\n",
       "      <td>31.543400</td>\n",
       "      <td>32.478088</td>\n",
       "      <td>33.873198</td>\n",
       "      <td>33.248663</td>\n",
       "      <td>...</td>\n",
       "      <td>35.158173</td>\n",
       "      <td>35.245906</td>\n",
       "      <td>34.505445</td>\n",
       "      <td>31.615448</td>\n",
       "      <td>31.124869</td>\n",
       "      <td>35.807805</td>\n",
       "      <td>36.144735</td>\n",
       "      <td>32.984923</td>\n",
       "      <td>37.060553</td>\n",
       "      <td>31.107729</td>\n",
       "    </tr>\n",
       "    <tr>\n",
       "      <th>2017-03-08</th>\n",
       "      <td>25.843700</td>\n",
       "      <td>26.692097</td>\n",
       "      <td>25.039586</td>\n",
       "      <td>26.053307</td>\n",
       "      <td>25.578446</td>\n",
       "      <td>25.211599</td>\n",
       "      <td>23.796454</td>\n",
       "      <td>25.038654</td>\n",
       "      <td>26.007262</td>\n",
       "      <td>25.470933</td>\n",
       "      <td>...</td>\n",
       "      <td>26.067745</td>\n",
       "      <td>26.634668</td>\n",
       "      <td>25.808927</td>\n",
       "      <td>24.316130</td>\n",
       "      <td>23.889756</td>\n",
       "      <td>27.332715</td>\n",
       "      <td>27.756269</td>\n",
       "      <td>25.487214</td>\n",
       "      <td>27.626988</td>\n",
       "      <td>22.657470</td>\n",
       "    </tr>\n",
       "    <tr>\n",
       "      <th>2017-03-09</th>\n",
       "      <td>25.108878</td>\n",
       "      <td>26.926282</td>\n",
       "      <td>25.752820</td>\n",
       "      <td>25.958279</td>\n",
       "      <td>25.820250</td>\n",
       "      <td>25.590923</td>\n",
       "      <td>23.470621</td>\n",
       "      <td>25.069752</td>\n",
       "      <td>26.400542</td>\n",
       "      <td>25.097698</td>\n",
       "      <td>...</td>\n",
       "      <td>27.315850</td>\n",
       "      <td>26.044951</td>\n",
       "      <td>26.226971</td>\n",
       "      <td>24.390826</td>\n",
       "      <td>23.966150</td>\n",
       "      <td>26.660952</td>\n",
       "      <td>27.028299</td>\n",
       "      <td>26.286212</td>\n",
       "      <td>27.975812</td>\n",
       "      <td>23.750746</td>\n",
       "    </tr>\n",
       "    <tr>\n",
       "      <th>2017-03-10</th>\n",
       "      <td>24.780148</td>\n",
       "      <td>27.029063</td>\n",
       "      <td>25.313416</td>\n",
       "      <td>25.331389</td>\n",
       "      <td>25.665244</td>\n",
       "      <td>25.764889</td>\n",
       "      <td>23.146452</td>\n",
       "      <td>24.415295</td>\n",
       "      <td>25.986265</td>\n",
       "      <td>25.680003</td>\n",
       "      <td>...</td>\n",
       "      <td>27.239747</td>\n",
       "      <td>26.331017</td>\n",
       "      <td>26.801404</td>\n",
       "      <td>25.456503</td>\n",
       "      <td>23.587373</td>\n",
       "      <td>25.996989</td>\n",
       "      <td>26.846015</td>\n",
       "      <td>27.615477</td>\n",
       "      <td>26.796697</td>\n",
       "      <td>22.774178</td>\n",
       "    </tr>\n",
       "    <tr>\n",
       "      <th>2017-03-11</th>\n",
       "      <td>24.211799</td>\n",
       "      <td>26.509241</td>\n",
       "      <td>26.333651</td>\n",
       "      <td>24.472379</td>\n",
       "      <td>25.077842</td>\n",
       "      <td>25.377184</td>\n",
       "      <td>23.480809</td>\n",
       "      <td>23.558270</td>\n",
       "      <td>25.443381</td>\n",
       "      <td>26.417904</td>\n",
       "      <td>...</td>\n",
       "      <td>27.123960</td>\n",
       "      <td>25.504271</td>\n",
       "      <td>26.793195</td>\n",
       "      <td>25.657889</td>\n",
       "      <td>21.872862</td>\n",
       "      <td>25.819684</td>\n",
       "      <td>27.015060</td>\n",
       "      <td>28.369027</td>\n",
       "      <td>26.947559</td>\n",
       "      <td>21.837427</td>\n",
       "    </tr>\n",
       "    <tr>\n",
       "      <th>2017-03-12</th>\n",
       "      <td>24.107417</td>\n",
       "      <td>27.148920</td>\n",
       "      <td>26.209419</td>\n",
       "      <td>24.650721</td>\n",
       "      <td>24.717706</td>\n",
       "      <td>26.015012</td>\n",
       "      <td>24.129086</td>\n",
       "      <td>24.949665</td>\n",
       "      <td>26.776980</td>\n",
       "      <td>27.675070</td>\n",
       "      <td>...</td>\n",
       "      <td>26.744722</td>\n",
       "      <td>25.447651</td>\n",
       "      <td>27.382672</td>\n",
       "      <td>25.200803</td>\n",
       "      <td>21.089664</td>\n",
       "      <td>25.806428</td>\n",
       "      <td>26.411854</td>\n",
       "      <td>27.941444</td>\n",
       "      <td>26.704379</td>\n",
       "      <td>21.811836</td>\n",
       "    </tr>\n",
       "    <tr>\n",
       "      <th>2017-03-13</th>\n",
       "      <td>24.460266</td>\n",
       "      <td>27.827289</td>\n",
       "      <td>26.261688</td>\n",
       "      <td>24.857419</td>\n",
       "      <td>24.475194</td>\n",
       "      <td>26.035184</td>\n",
       "      <td>25.144740</td>\n",
       "      <td>25.250880</td>\n",
       "      <td>26.681469</td>\n",
       "      <td>27.777200</td>\n",
       "      <td>...</td>\n",
       "      <td>27.765555</td>\n",
       "      <td>24.568537</td>\n",
       "      <td>27.147058</td>\n",
       "      <td>25.872245</td>\n",
       "      <td>20.941655</td>\n",
       "      <td>26.596191</td>\n",
       "      <td>26.371312</td>\n",
       "      <td>27.788690</td>\n",
       "      <td>26.079110</td>\n",
       "      <td>22.308207</td>\n",
       "    </tr>\n",
       "    <tr>\n",
       "      <th>2017-03-14</th>\n",
       "      <td>25.746481</td>\n",
       "      <td>28.095618</td>\n",
       "      <td>26.267434</td>\n",
       "      <td>25.956560</td>\n",
       "      <td>23.690150</td>\n",
       "      <td>26.220568</td>\n",
       "      <td>25.271606</td>\n",
       "      <td>24.928876</td>\n",
       "      <td>25.735263</td>\n",
       "      <td>27.749230</td>\n",
       "      <td>...</td>\n",
       "      <td>26.684612</td>\n",
       "      <td>24.339809</td>\n",
       "      <td>28.408953</td>\n",
       "      <td>26.239131</td>\n",
       "      <td>20.300277</td>\n",
       "      <td>27.757842</td>\n",
       "      <td>27.243387</td>\n",
       "      <td>26.898808</td>\n",
       "      <td>25.359470</td>\n",
       "      <td>22.982717</td>\n",
       "    </tr>\n",
       "    <tr>\n",
       "      <th>2017-03-15</th>\n",
       "      <td>26.327190</td>\n",
       "      <td>28.191434</td>\n",
       "      <td>25.303024</td>\n",
       "      <td>25.767559</td>\n",
       "      <td>22.676136</td>\n",
       "      <td>26.185486</td>\n",
       "      <td>25.277709</td>\n",
       "      <td>24.646678</td>\n",
       "      <td>25.453370</td>\n",
       "      <td>27.816002</td>\n",
       "      <td>...</td>\n",
       "      <td>26.708983</td>\n",
       "      <td>23.774622</td>\n",
       "      <td>27.752686</td>\n",
       "      <td>26.941126</td>\n",
       "      <td>19.652448</td>\n",
       "      <td>26.366958</td>\n",
       "      <td>28.060890</td>\n",
       "      <td>26.100402</td>\n",
       "      <td>24.693034</td>\n",
       "      <td>22.028112</td>\n",
       "    </tr>\n",
       "    <tr>\n",
       "      <th>2017-03-16</th>\n",
       "      <td>26.394105</td>\n",
       "      <td>28.533958</td>\n",
       "      <td>25.071925</td>\n",
       "      <td>25.865554</td>\n",
       "      <td>21.807129</td>\n",
       "      <td>26.151526</td>\n",
       "      <td>25.803893</td>\n",
       "      <td>24.295636</td>\n",
       "      <td>27.227799</td>\n",
       "      <td>26.691401</td>\n",
       "      <td>...</td>\n",
       "      <td>26.590675</td>\n",
       "      <td>24.098196</td>\n",
       "      <td>27.872479</td>\n",
       "      <td>27.402608</td>\n",
       "      <td>19.312377</td>\n",
       "      <td>26.332656</td>\n",
       "      <td>27.089959</td>\n",
       "      <td>25.189260</td>\n",
       "      <td>23.837477</td>\n",
       "      <td>21.550063</td>\n",
       "    </tr>\n",
       "    <tr>\n",
       "      <th>2017-03-17</th>\n",
       "      <td>26.314300</td>\n",
       "      <td>28.801251</td>\n",
       "      <td>25.557986</td>\n",
       "      <td>25.021850</td>\n",
       "      <td>21.907676</td>\n",
       "      <td>25.530656</td>\n",
       "      <td>26.063331</td>\n",
       "      <td>24.094815</td>\n",
       "      <td>28.833723</td>\n",
       "      <td>26.235985</td>\n",
       "      <td>...</td>\n",
       "      <td>25.577004</td>\n",
       "      <td>24.618557</td>\n",
       "      <td>28.564905</td>\n",
       "      <td>27.181499</td>\n",
       "      <td>19.108856</td>\n",
       "      <td>26.110154</td>\n",
       "      <td>26.847248</td>\n",
       "      <td>25.308434</td>\n",
       "      <td>23.028974</td>\n",
       "      <td>20.985379</td>\n",
       "    </tr>\n",
       "    <tr>\n",
       "      <th>2017-03-18</th>\n",
       "      <td>26.619922</td>\n",
       "      <td>27.447061</td>\n",
       "      <td>26.394111</td>\n",
       "      <td>24.513037</td>\n",
       "      <td>21.820963</td>\n",
       "      <td>24.371769</td>\n",
       "      <td>27.489371</td>\n",
       "      <td>24.018507</td>\n",
       "      <td>28.028385</td>\n",
       "      <td>25.810541</td>\n",
       "      <td>...</td>\n",
       "      <td>26.243422</td>\n",
       "      <td>23.104353</td>\n",
       "      <td>29.457334</td>\n",
       "      <td>26.861900</td>\n",
       "      <td>19.316376</td>\n",
       "      <td>26.895680</td>\n",
       "      <td>26.234895</td>\n",
       "      <td>25.276178</td>\n",
       "      <td>22.536612</td>\n",
       "      <td>21.569191</td>\n",
       "    </tr>\n",
       "    <tr>\n",
       "      <th>2017-03-19</th>\n",
       "      <td>35.962659</td>\n",
       "      <td>35.017511</td>\n",
       "      <td>34.516753</td>\n",
       "      <td>31.579399</td>\n",
       "      <td>29.114323</td>\n",
       "      <td>31.867153</td>\n",
       "      <td>35.647506</td>\n",
       "      <td>31.353416</td>\n",
       "      <td>36.929357</td>\n",
       "      <td>34.117504</td>\n",
       "      <td>...</td>\n",
       "      <td>35.365958</td>\n",
       "      <td>31.023325</td>\n",
       "      <td>37.118422</td>\n",
       "      <td>34.360376</td>\n",
       "      <td>25.187172</td>\n",
       "      <td>33.553202</td>\n",
       "      <td>34.363439</td>\n",
       "      <td>32.874416</td>\n",
       "      <td>28.939914</td>\n",
       "      <td>29.283228</td>\n",
       "    </tr>\n",
       "    <tr>\n",
       "      <th>2017-03-20</th>\n",
       "      <td>26.539916</td>\n",
       "      <td>26.173391</td>\n",
       "      <td>26.247404</td>\n",
       "      <td>24.384544</td>\n",
       "      <td>22.181121</td>\n",
       "      <td>24.435658</td>\n",
       "      <td>27.106476</td>\n",
       "      <td>24.252183</td>\n",
       "      <td>27.899877</td>\n",
       "      <td>24.742685</td>\n",
       "      <td>...</td>\n",
       "      <td>26.487376</td>\n",
       "      <td>23.141256</td>\n",
       "      <td>28.179813</td>\n",
       "      <td>26.200673</td>\n",
       "      <td>19.832912</td>\n",
       "      <td>26.020013</td>\n",
       "      <td>25.739945</td>\n",
       "      <td>24.245339</td>\n",
       "      <td>21.557198</td>\n",
       "      <td>21.678361</td>\n",
       "    </tr>\n",
       "  </tbody>\n",
       "</table>\n",
       "<p>20 rows × 30000 columns</p>\n",
       "</div>"
      ],
      "text/plain": [
       "                      0          1          2          3          4      \\\n",
       "simulation_dates                                                          \n",
       "2017-03-01        26.151669  26.416012  25.079724  25.917828  25.319812   \n",
       "2017-03-02        26.147114  27.015033  25.799803  26.765663  24.864348   \n",
       "2017-03-03        24.935969  26.096618  25.501151  26.314081  25.488193   \n",
       "2017-03-04        25.357130  26.651824  25.995279  25.781726  25.928387   \n",
       "2017-03-05        24.860761  27.362107  25.229531  26.250030  26.041596   \n",
       "2017-03-06        24.994747  27.261709  24.822468  25.743182  26.772069   \n",
       "2017-03-07        33.749465  35.753520  33.085215  33.582408  35.859949   \n",
       "2017-03-08        25.843700  26.692097  25.039586  26.053307  25.578446   \n",
       "2017-03-09        25.108878  26.926282  25.752820  25.958279  25.820250   \n",
       "2017-03-10        24.780148  27.029063  25.313416  25.331389  25.665244   \n",
       "2017-03-11        24.211799  26.509241  26.333651  24.472379  25.077842   \n",
       "2017-03-12        24.107417  27.148920  26.209419  24.650721  24.717706   \n",
       "2017-03-13        24.460266  27.827289  26.261688  24.857419  24.475194   \n",
       "2017-03-14        25.746481  28.095618  26.267434  25.956560  23.690150   \n",
       "2017-03-15        26.327190  28.191434  25.303024  25.767559  22.676136   \n",
       "2017-03-16        26.394105  28.533958  25.071925  25.865554  21.807129   \n",
       "2017-03-17        26.314300  28.801251  25.557986  25.021850  21.907676   \n",
       "2017-03-18        26.619922  27.447061  26.394111  24.513037  21.820963   \n",
       "2017-03-19        35.962659  35.017511  34.516753  31.579399  29.114323   \n",
       "2017-03-20        26.539916  26.173391  26.247404  24.384544  22.181121   \n",
       "\n",
       "                      5          6          7          8          9      \\\n",
       "simulation_dates                                                          \n",
       "2017-03-01        25.469493  25.491608  23.865767  25.629175  25.645306   \n",
       "2017-03-02        25.772411  25.365630  25.315190  25.835103  25.031334   \n",
       "2017-03-03        26.382150  24.607075  25.109743  26.397819  25.071606   \n",
       "2017-03-04        26.151872  24.566210  25.557230  26.195354  25.102472   \n",
       "2017-03-05        25.991767  24.504283  25.235708  25.970367  25.113059   \n",
       "2017-03-06        25.280613  24.099091  25.257133  26.207163  25.436759   \n",
       "2017-03-07        32.632834  31.543400  32.478088  33.873198  33.248663   \n",
       "2017-03-08        25.211599  23.796454  25.038654  26.007262  25.470933   \n",
       "2017-03-09        25.590923  23.470621  25.069752  26.400542  25.097698   \n",
       "2017-03-10        25.764889  23.146452  24.415295  25.986265  25.680003   \n",
       "2017-03-11        25.377184  23.480809  23.558270  25.443381  26.417904   \n",
       "2017-03-12        26.015012  24.129086  24.949665  26.776980  27.675070   \n",
       "2017-03-13        26.035184  25.144740  25.250880  26.681469  27.777200   \n",
       "2017-03-14        26.220568  25.271606  24.928876  25.735263  27.749230   \n",
       "2017-03-15        26.185486  25.277709  24.646678  25.453370  27.816002   \n",
       "2017-03-16        26.151526  25.803893  24.295636  27.227799  26.691401   \n",
       "2017-03-17        25.530656  26.063331  24.094815  28.833723  26.235985   \n",
       "2017-03-18        24.371769  27.489371  24.018507  28.028385  25.810541   \n",
       "2017-03-19        31.867153  35.647506  31.353416  36.929357  34.117504   \n",
       "2017-03-20        24.435658  27.106476  24.252183  27.899877  24.742685   \n",
       "\n",
       "                    ...          29990      29991      29992      29993  \\\n",
       "simulation_dates    ...                                                   \n",
       "2017-03-01          ...      25.899752  25.788504  24.948675  25.060191   \n",
       "2017-03-02          ...      26.643527  25.600508  25.193846  25.338831   \n",
       "2017-03-03          ...      26.696067  25.955029  26.704301  24.448812   \n",
       "2017-03-04          ...      26.616266  25.243854  26.020062  24.996698   \n",
       "2017-03-05          ...      26.584387  26.122310  26.771809  24.438304   \n",
       "2017-03-06          ...      26.331476  26.643466  27.208225  24.567995   \n",
       "2017-03-07          ...      35.158173  35.245906  34.505445  31.615448   \n",
       "2017-03-08          ...      26.067745  26.634668  25.808927  24.316130   \n",
       "2017-03-09          ...      27.315850  26.044951  26.226971  24.390826   \n",
       "2017-03-10          ...      27.239747  26.331017  26.801404  25.456503   \n",
       "2017-03-11          ...      27.123960  25.504271  26.793195  25.657889   \n",
       "2017-03-12          ...      26.744722  25.447651  27.382672  25.200803   \n",
       "2017-03-13          ...      27.765555  24.568537  27.147058  25.872245   \n",
       "2017-03-14          ...      26.684612  24.339809  28.408953  26.239131   \n",
       "2017-03-15          ...      26.708983  23.774622  27.752686  26.941126   \n",
       "2017-03-16          ...      26.590675  24.098196  27.872479  27.402608   \n",
       "2017-03-17          ...      25.577004  24.618557  28.564905  27.181499   \n",
       "2017-03-18          ...      26.243422  23.104353  29.457334  26.861900   \n",
       "2017-03-19          ...      35.365958  31.023325  37.118422  34.360376   \n",
       "2017-03-20          ...      26.487376  23.141256  28.179813  26.200673   \n",
       "\n",
       "                      29994      29995      29996      29997      29998  \\\n",
       "simulation_dates                                                          \n",
       "2017-03-01        25.046148  25.283114  26.109659  25.100623  25.344437   \n",
       "2017-03-02        24.176523  26.139461  26.733032  24.617736  26.393647   \n",
       "2017-03-03        23.874870  25.868563  27.810034  24.990777  26.493381   \n",
       "2017-03-04        24.230821  26.888667  26.879744  25.305627  26.867368   \n",
       "2017-03-05        24.363062  26.836107  26.950051  25.590349  27.588696   \n",
       "2017-03-06        24.019165  26.176408  27.043781  25.661733  28.064559   \n",
       "2017-03-07        31.124869  35.807805  36.144735  32.984923  37.060553   \n",
       "2017-03-08        23.889756  27.332715  27.756269  25.487214  27.626988   \n",
       "2017-03-09        23.966150  26.660952  27.028299  26.286212  27.975812   \n",
       "2017-03-10        23.587373  25.996989  26.846015  27.615477  26.796697   \n",
       "2017-03-11        21.872862  25.819684  27.015060  28.369027  26.947559   \n",
       "2017-03-12        21.089664  25.806428  26.411854  27.941444  26.704379   \n",
       "2017-03-13        20.941655  26.596191  26.371312  27.788690  26.079110   \n",
       "2017-03-14        20.300277  27.757842  27.243387  26.898808  25.359470   \n",
       "2017-03-15        19.652448  26.366958  28.060890  26.100402  24.693034   \n",
       "2017-03-16        19.312377  26.332656  27.089959  25.189260  23.837477   \n",
       "2017-03-17        19.108856  26.110154  26.847248  25.308434  23.028974   \n",
       "2017-03-18        19.316376  26.895680  26.234895  25.276178  22.536612   \n",
       "2017-03-19        25.187172  33.553202  34.363439  32.874416  28.939914   \n",
       "2017-03-20        19.832912  26.020013  25.739945  24.245339  21.557198   \n",
       "\n",
       "                      29999  \n",
       "simulation_dates             \n",
       "2017-03-01        25.596467  \n",
       "2017-03-02        25.634409  \n",
       "2017-03-03        25.023919  \n",
       "2017-03-04        24.645693  \n",
       "2017-03-05        24.550033  \n",
       "2017-03-06        24.234708  \n",
       "2017-03-07        31.107729  \n",
       "2017-03-08        22.657470  \n",
       "2017-03-09        23.750746  \n",
       "2017-03-10        22.774178  \n",
       "2017-03-11        21.837427  \n",
       "2017-03-12        21.811836  \n",
       "2017-03-13        22.308207  \n",
       "2017-03-14        22.982717  \n",
       "2017-03-15        22.028112  \n",
       "2017-03-16        21.550063  \n",
       "2017-03-17        20.985379  \n",
       "2017-03-18        21.569191  \n",
       "2017-03-19        29.283228  \n",
       "2017-03-20        21.678361  \n",
       "\n",
       "[20 rows x 30000 columns]"
      ]
     },
     "execution_count": 13,
     "metadata": {},
     "output_type": "execute_result"
    }
   ],
   "source": [
    "res['spot_sims']"
   ]
  },
  {
   "cell_type": "code",
   "execution_count": 14,
   "metadata": {
    "collapsed": false
   },
   "outputs": [
    {
     "data": {
      "text/plain": [
       "2017-02-28    25.5\n",
       "2017-03-01    25.5\n",
       "2017-03-02    25.5\n",
       "2017-03-03    25.5\n",
       "2017-03-04    25.5\n",
       "2017-03-05    25.5\n",
       "2017-03-06    25.5\n",
       "2017-03-07    33.6\n",
       "2017-03-08    25.5\n",
       "2017-03-09    25.5\n",
       "2017-03-10    25.5\n",
       "2017-03-11    25.5\n",
       "2017-03-12    25.5\n",
       "2017-03-13    25.5\n",
       "2017-03-14    25.5\n",
       "2017-03-15    25.5\n",
       "2017-03-16    25.5\n",
       "2017-03-17    25.5\n",
       "2017-03-18    25.5\n",
       "2017-03-19    33.6\n",
       "2017-03-20    25.5\n",
       "Freq: D, dtype: float64"
      ]
     },
     "execution_count": 14,
     "metadata": {},
     "output_type": "execute_result"
    }
   ],
   "source": [
    "calc"
   ]
  },
  {
   "cell_type": "code",
   "execution_count": 18,
   "metadata": {
    "collapsed": false
   },
   "outputs": [
    {
     "data": {
      "text/plain": [
       "2017-03-01   -0.000277\n",
       "2017-03-02   -0.000554\n",
       "2017-03-03   -0.000832\n",
       "2017-03-04   -0.001109\n",
       "2017-03-05   -0.001386\n",
       "2017-03-06   -0.001663\n",
       "2017-03-07   -0.001940\n",
       "2017-03-08   -0.002218\n",
       "2017-03-09   -0.002495\n",
       "2017-03-10   -0.002772\n",
       "2017-03-11   -0.003049\n",
       "2017-03-12   -0.003327\n",
       "2017-03-13   -0.003604\n",
       "2017-03-14   -0.003881\n",
       "2017-03-15   -0.004158\n",
       "2017-03-16   -0.004435\n",
       "2017-03-17   -0.004713\n",
       "2017-03-18   -0.004990\n",
       "2017-03-19   -0.005267\n",
       "2017-03-20   -0.005544\n",
       "Freq: D, dtype: float64"
      ]
     },
     "execution_count": 18,
     "metadata": {},
     "output_type": "execute_result"
    }
   ],
   "source": [
    "-0.5 * (term_vol ** 2) * calcTe(valuation_date, res['spot_sims'].index)"
   ]
  },
  {
   "cell_type": "code",
   "execution_count": 27,
   "metadata": {
    "collapsed": false
   },
   "outputs": [
    {
     "data": {
      "text/plain": [
       "simulation_dates\n",
       "2017-03-01    3.327362e-15\n",
       "2017-03-02   -2.265516e-14\n",
       "2017-03-03    7.317497e-15\n",
       "2017-03-04   -1.244729e-14\n",
       "2017-03-05   -2.066663e-14\n",
       "2017-03-06   -5.348586e-15\n",
       "2017-03-07   -2.555746e-14\n",
       "2017-03-08   -1.023964e-14\n",
       "2017-03-09    1.662429e-14\n",
       "2017-03-10   -3.911281e-14\n",
       "2017-03-11    6.301383e-16\n",
       "2017-03-12    3.956904e-15\n",
       "2017-03-13    9.060894e-15\n",
       "2017-03-14    6.171279e-15\n",
       "2017-03-15    7.278032e-15\n",
       "2017-03-16   -2.403373e-14\n",
       "2017-03-17   -1.537746e-14\n",
       "2017-03-18    1.148821e-14\n",
       "2017-03-19    6.036838e-16\n",
       "2017-03-20   -1.338860e-14\n",
       "Freq: D, dtype: float64"
      ]
     },
     "execution_count": 27,
     "metadata": {},
     "output_type": "execute_result"
    }
   ],
   "source": [
    "np.log(res['spot_sims']).mean(axis=1) - np.log(fc[payoff.contract_dates]) - (-0.5 * (term_vol ** 2) * calcTe(valuation_date, res['spot_sims'].index))"
   ]
  },
  {
   "cell_type": "code",
   "execution_count": 30,
   "metadata": {
    "collapsed": false
   },
   "outputs": [],
   "source": [
    "term_var = 0.5 * (term_vol ** 2) * calcTe(valuation_date, res['spot_sims'].index)\n",
    "residual = np.log(res['spot_sims']).apply(lambda x: x - np.log(fc[payoff.contract_dates]) - term_var)"
   ]
  },
  {
   "cell_type": "code",
   "execution_count": 33,
   "metadata": {
    "collapsed": false
   },
   "outputs": [
    {
     "data": {
      "text/plain": [
       "simulation_dates\n",
       "2017-03-01    0.450008\n",
       "2017-03-02    0.449411\n",
       "2017-03-03    0.447325\n",
       "2017-03-04    0.446518\n",
       "2017-03-05    0.447845\n",
       "2017-03-06    0.447222\n",
       "2017-03-07    0.447693\n",
       "2017-03-08    0.448950\n",
       "2017-03-09    0.448413\n",
       "2017-03-10    0.447402\n",
       "2017-03-11    0.447613\n",
       "2017-03-12    0.449172\n",
       "2017-03-13    0.450514\n",
       "2017-03-14    0.450734\n",
       "2017-03-15    0.451621\n",
       "2017-03-16    0.451196\n",
       "2017-03-17    0.451285\n",
       "2017-03-18    0.452605\n",
       "2017-03-19    0.453148\n",
       "2017-03-20    0.452777\n",
       "Freq: D, dtype: float64"
      ]
     },
     "execution_count": 33,
     "metadata": {},
     "output_type": "execute_result"
    }
   ],
   "source": [
    "residual.std(axis=1) / np.sqrt(calcTe(valuation_date, res['spot_sims'].index))"
   ]
  },
  {
   "cell_type": "code",
   "execution_count": null,
   "metadata": {
    "collapsed": true
   },
   "outputs": [],
   "source": []
  }
 ],
 "metadata": {
  "kernelspec": {
   "display_name": "Python 2",
   "language": "python",
   "name": "python2"
  },
  "language_info": {
   "codemirror_mode": {
    "name": "ipython",
    "version": 2
   },
   "file_extension": ".py",
   "mimetype": "text/x-python",
   "name": "python",
   "nbconvert_exporter": "python",
   "pygments_lexer": "ipython2",
   "version": "2.7.10"
  }
 },
 "nbformat": 4,
 "nbformat_minor": 0
}
