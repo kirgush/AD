{
 "cells": [
  {
   "cell_type": "code",
   "execution_count": 1,
   "metadata": {
    "collapsed": false
   },
   "outputs": [],
   "source": [
    "import pandas as pd\n",
    "import numpy as np"
   ]
  },
  {
   "cell_type": "code",
   "execution_count": null,
   "metadata": {
    "collapsed": true
   },
   "outputs": [],
   "source": []
  },
  {
   "cell_type": "code",
   "execution_count": 30,
   "metadata": {
    "collapsed": false
   },
   "outputs": [],
   "source": [
    "from gazprom.mt.pricing.models.swing.fixed_price import FixedPriceSwing\n",
    "from gazprom.mt.pricing.models.swing.test.swing_market_data import build_swing\n",
    "from gazprom.mt.pricing.models.exercise import FixedDailyOffset"
   ]
  },
  {
   "cell_type": "code",
   "execution_count": 4,
   "metadata": {
    "collapsed": false
   },
   "outputs": [],
   "source": [
    "from gazprom.mt.pricing.environment.environment import Environment\n",
    "from gazprom.mt.pricing.environment.market_data import CurveData\n",
    "from gazprom.mt.pricing.models.timeseries.gbmsimulator.volatility_model import VolModelBlended\n",
    "from gazprom.mt.pricing.models.timeseries.market_data import MonthlyBlendedData"
   ]
  },
  {
   "cell_type": "code",
   "execution_count": null,
   "metadata": {
    "collapsed": true
   },
   "outputs": [],
   "source": []
  },
  {
   "cell_type": "code",
   "execution_count": 31,
   "metadata": {
    "collapsed": false
   },
   "outputs": [],
   "source": [
    "mkt = 'TTF'\n",
    "ccy = 'EUR'\n",
    "\n",
    "start_date = pd.datetime(2017, 3, 1)\n",
    "end_date = pd.datetime(2017, 3, 20)\n",
    "exercise_dates = pd.date_range(start_date, end_date, freq='D')\n",
    "tcq_max = 1.0\n",
    "tcq_min = 0.0\n",
    "dcq_max = 1.0\n",
    "dcq_min = 0.0\n",
    "\n",
    "strike = 25.5\n",
    "\n",
    "kwargs_payoff = {'strike': strike, \n",
    "                 'dcq_max': dcq_max, 'dcq_min': dcq_min, 'early_exercise': FixedDailyOffset(), \n",
    "                 'market': mkt, 'ccy': ccy, 'payoff_class': FixedPriceSwing}"
   ]
  },
  {
   "cell_type": "code",
   "execution_count": 32,
   "metadata": {
    "collapsed": false
   },
   "outputs": [],
   "source": [
    "payoff = build_swing('call', 'buy', start_date, end_date, tcq_max, tcq_min, **kwargs_payoff)"
   ]
  },
  {
   "cell_type": "code",
   "execution_count": 33,
   "metadata": {
    "collapsed": false
   },
   "outputs": [
    {
     "name": "stdout",
     "output_type": "stream",
     "text": [
      "FixedPriceSwing [buy, EUR]: market=TTF, type=call,start_date=01-Mar-2017, end_date=20-Mar-2017\n",
      "# constraints=SwingConstraints(_dcq_min=0.0, _tcq_min=0.0, _tcq_max=1.0, _dcq_max=1.0)\n",
      "# strike=\n",
      "2017-03-01    25.5\n",
      "2017-03-02    25.5\n",
      "2017-03-03    25.5\n",
      "2017-03-04    25.5\n",
      "2017-03-05    25.5\n",
      "2017-03-06    25.5\n",
      "2017-03-07    25.5\n",
      "2017-03-08    25.5\n",
      "2017-03-09    25.5\n",
      "2017-03-10    25.5\n",
      "2017-03-11    25.5\n",
      "2017-03-12    25.5\n",
      "2017-03-13    25.5\n",
      "2017-03-14    25.5\n",
      "2017-03-15    25.5\n",
      "2017-03-16    25.5\n",
      "2017-03-17    25.5\n",
      "2017-03-18    25.5\n",
      "2017-03-19    25.5\n",
      "2017-03-20    25.5\n",
      "Freq: D, dtype: float64\n"
     ]
    }
   ],
   "source": [
    "print(payoff)"
   ]
  },
  {
   "cell_type": "code",
   "execution_count": null,
   "metadata": {
    "collapsed": true
   },
   "outputs": [],
   "source": []
  },
  {
   "cell_type": "code",
   "execution_count": 60,
   "metadata": {
    "collapsed": false
   },
   "outputs": [],
   "source": [
    "valuation_date = pd.datetime(2017, 2, 28)\n",
    "\n",
    "fc = pd.Series(25.5, index=pd.date_range(valuation_date, pd.datetime(2017, 5, 1)))\n",
    "ir = pd.Series(0.0245, index=exercise_dates)\n",
    "\n",
    "ctc = pd.date_range(pd.datetime(2017, 1, 1), pd.datetime(2017, 4, 1), freq='MS')\n",
    "ctc_expiries = pd.Series(ctc - pd.datetools.Day(), index=ctc)\n",
    "option_expiries = pd.Series(ctc - pd.datetools.MonthEnd(), index=ctc)\n",
    "\n",
    "volm = pd.Series(0.21, index=ctc)\n",
    "volb = pd.Series(0.45, index=ctc)\n",
    "\n",
    "env = Environment(valuation_date, ccy)\n",
    "env.add_price(ccy, CurveData(ir))\n",
    "env.add_price(mkt, CurveData(fc))\n",
    "# env.add_expiry_option(mkt, option_expiries)\n",
    "\n",
    "mbdata = MonthlyBlendedData(vol_monthly=volm, vol_blended=volb, option_expiry=option_expiries)\n",
    "env.add_vol(mkt, mbdata, VolModelBlended)"
   ]
  },
  {
   "cell_type": "code",
   "execution_count": 61,
   "metadata": {
    "collapsed": false
   },
   "outputs": [
    {
     "name": "stdout",
     "output_type": "stream",
     "text": [
      "Environment (intraday=False):\n",
      "## _STATE\n",
      "- currency: IdentityData: data_args={'data_type': <type 'basestring'>}, data:\n",
      "EUR\n",
      "- intraday: IdentityData: data_args={'data_type': <type 'bool'>}, data:\n",
      "False\n",
      "- pricing_date: IdentityData: data_args={'data_type': <type 'datetime.date'>}, data:\n",
      "2017-02-28 00:00:00\n",
      "## TTF\n",
      "- vol_params: IdentityData: data_args={'data_type': <type 'object'>}, data:\n",
      "{'offset': 14}\n",
      "- vol_model: VolModelFunction: vol_kwargs={'builder': 'default', 'calibrator': None}, vol_class=<class 'gazprom.mt.pricing.models.timeseries.gbmsimulator.volatility_model.VolModelBlended'>, market_data=<gazprom.mt.pricing.models.timeseries.market_data.MonthlyBlendedData object at 0x000000000CBC7048>, builder=<gazprom.mt.pricing.environment.data_builders.DefaultDataBuilder object at 0x000000000CBDBBA8>, data_args={}, data:\n",
      "(KeySpec(key_type=pricing_date, apply_early=False, key=_STATE), KeySpec(key_type=vol_monthly, apply_early=False, key=TTF), KeySpec(key_type=vol_blended, apply_early=False, key=TTF), KeySpec(key_type=option_expiry, apply_early=False, key=TTF), KeySpec(key_type=vol_params, apply_early=False, key=TTF))\n",
      "- price: CurveData: builder=<gazprom.mt.pricing.environment.data_builders.DefaultDataBuilder object at 0x000000000CB060B8>, allow_negative=False, is_corr=False, data_args={'builder': 'default'}, data:\n",
      "2017-02-28    25.5\n",
      "2017-03-01    25.5\n",
      "2017-03-02    25.5\n",
      "2017-03-03    25.5\n",
      "2017-03-04    25.5\n",
      "2017-03-05    25.5\n",
      "2017-03-06    25.5\n",
      "2017-03-07    25.5\n",
      "2017-03-08    25.5\n",
      "2017-03-09    25.5\n",
      "2017-03-10    25.5\n",
      "2017-03-11    25.5\n",
      "2017-03-12    25.5\n",
      "2017-03-13    25.5\n",
      "2017-03-14    25.5\n",
      "2017-03-15    25.5\n",
      "2017-03-16    25.5\n",
      "2017-03-17    25.5\n",
      "2017-03-18    25.5\n",
      "2017-03-19    25.5\n",
      "2017-03-20    25.5\n",
      "2017-03-21    25.5\n",
      "2017-03-22    25.5\n",
      "2017-03-23    25.5\n",
      "2017-03-24    25.5\n",
      "2017-03-25    25.5\n",
      "2017-03-26    25.5\n",
      "2017-03-27    25.5\n",
      "2017-03-28    25.5\n",
      "2017-03-29    25.5\n",
      "              ... \n",
      "2017-04-02    25.5\n",
      "2017-04-03    25.5\n",
      "2017-04-04    25.5\n",
      "2017-04-05    25.5\n",
      "2017-04-06    25.5\n",
      "2017-04-07    25.5\n",
      "2017-04-08    25.5\n",
      "2017-04-09    25.5\n",
      "2017-04-10    25.5\n",
      "2017-04-11    25.5\n",
      "2017-04-12    25.5\n",
      "2017-04-13    25.5\n",
      "2017-04-14    25.5\n",
      "2017-04-15    25.5\n",
      "2017-04-16    25.5\n",
      "2017-04-17    25.5\n",
      "2017-04-18    25.5\n",
      "2017-04-19    25.5\n",
      "2017-04-20    25.5\n",
      "2017-04-21    25.5\n",
      "2017-04-22    25.5\n",
      "2017-04-23    25.5\n",
      "2017-04-24    25.5\n",
      "2017-04-25    25.5\n",
      "2017-04-26    25.5\n",
      "2017-04-27    25.5\n",
      "2017-04-28    25.5\n",
      "2017-04-29    25.5\n",
      "2017-04-30    25.5\n",
      "2017-05-01    25.5\n",
      "Freq: D, dtype: float64\n",
      "- vol_monthly: CurveData: builder=<gazprom.mt.pricing.environment.data_builders.DefaultDataBuilder object at 0x000000000CBC7208>, allow_negative=False, is_corr=False, data_args={'builder': 'default'}, data:\n",
      "2017-01-01    0.21\n",
      "2017-02-01    0.21\n",
      "2017-03-01    0.21\n",
      "2017-04-01    0.21\n",
      "Freq: MS, dtype: float64\n",
      "- vol_blended: CurveData: builder=<gazprom.mt.pricing.environment.data_builders.DefaultDataBuilder object at 0x000000000D257F98>, allow_negative=False, is_corr=False, data_args={'builder': 'default'}, data:\n",
      "2017-01-01    0.45\n",
      "2017-02-01    0.45\n",
      "2017-03-01    0.45\n",
      "2017-04-01    0.45\n",
      "Freq: MS, dtype: float64\n",
      "- option_expiry: CurveData: builder=<gazprom.mt.pricing.environment.data_builders.DefaultDataBuilder object at 0x000000000CB0FF60>, allow_negative=False, is_corr=False, data_args={'builder': 'default'}, data:\n",
      "2017-01-01   2016-12-31\n",
      "2017-02-01   2017-01-31\n",
      "2017-03-01   2017-02-28\n",
      "2017-04-01   2017-03-31\n",
      "Freq: MS, dtype: datetime64[ns]\n",
      "## EUR\n",
      "- price: CurveData: builder=<gazprom.mt.pricing.environment.data_builders.DefaultDataBuilder object at 0x000000000CB0FC88>, allow_negative=False, is_corr=False, data_args={'builder': 'default'}, data:\n",
      "2017-03-01    0.0245\n",
      "2017-03-02    0.0245\n",
      "2017-03-03    0.0245\n",
      "2017-03-04    0.0245\n",
      "2017-03-05    0.0245\n",
      "2017-03-06    0.0245\n",
      "2017-03-07    0.0245\n",
      "2017-03-08    0.0245\n",
      "2017-03-09    0.0245\n",
      "2017-03-10    0.0245\n",
      "2017-03-11    0.0245\n",
      "2017-03-12    0.0245\n",
      "2017-03-13    0.0245\n",
      "2017-03-14    0.0245\n",
      "2017-03-15    0.0245\n",
      "2017-03-16    0.0245\n",
      "2017-03-17    0.0245\n",
      "2017-03-18    0.0245\n",
      "2017-03-19    0.0245\n",
      "2017-03-20    0.0245\n",
      "Freq: D, dtype: float64\n",
      "\n"
     ]
    }
   ],
   "source": [
    "print(env)"
   ]
  },
  {
   "cell_type": "code",
   "execution_count": null,
   "metadata": {
    "collapsed": true
   },
   "outputs": [],
   "source": []
  },
  {
   "cell_type": "code",
   "execution_count": 75,
   "metadata": {
    "collapsed": false
   },
   "outputs": [],
   "source": [
    "simulator_params = {'seed': 12321312, 'simulator': 'SimulatorOneFactor'}\n",
    "lsmc_params=dict(nsims_fwd=10000, nsims_bwd=10000)\n",
    "\n",
    "res = payoff.pv_greeks(env, simulator_params=simulator_params, lsmc_params=lsmc_params, debug=True)"
   ]
  },
  {
   "cell_type": "code",
   "execution_count": 76,
   "metadata": {
    "collapsed": false
   },
   "outputs": [
    {
     "data": {
      "text/plain": [
       "['sims',\n",
       " 'cash_strike',\n",
       " 'pv',\n",
       " 'actions_paths',\n",
       " 'triggers',\n",
       " 'lsmc_mesh',\n",
       " 'vega_monthly',\n",
       " 'fwd_sims',\n",
       " 'cash',\n",
       " 'actions',\n",
       " 'vega_blended',\n",
       " 'spot_sims',\n",
       " 'delta',\n",
       " 'theta',\n",
       " 'price_model',\n",
       " 'cashflows']"
      ]
     },
     "execution_count": 76,
     "metadata": {},
     "output_type": "execute_result"
    }
   ],
   "source": [
    "res.keys()"
   ]
  },
  {
   "cell_type": "code",
   "execution_count": 64,
   "metadata": {
    "collapsed": false
   },
   "outputs": [
    {
     "data": {
      "text/plain": [
       "SV(      1.0555,     0.0075)"
      ]
     },
     "execution_count": 64,
     "metadata": {},
     "output_type": "execute_result"
    }
   ],
   "source": [
    "res['pv']"
   ]
  },
  {
   "cell_type": "code",
   "execution_count": 71,
   "metadata": {
    "collapsed": false,
    "scrolled": true
   },
   "outputs": [
    {
     "data": {
      "text/plain": [
       "SVFrame.value:\n",
       "                  TTF\n",
       "2017-03-01  0.000000\n",
       "2017-03-02  0.000000\n",
       "2017-03-03  0.000000\n",
       "2017-03-04  0.000000\n",
       "2017-03-05  0.000000\n",
       "2017-03-06  0.000000\n",
       "2017-03-07  0.000000\n",
       "2017-03-08  0.111620\n",
       "2017-03-09  0.000000\n",
       "2017-03-10  0.000000\n",
       "2017-03-11  0.110808\n",
       "2017-03-12  0.000000\n",
       "2017-03-13  0.000000\n",
       "2017-03-14  0.000000\n",
       "2017-03-15  0.000000\n",
       "2017-03-16  0.108138\n",
       "2017-03-17  0.000000\n",
       "2017-03-18  0.000000\n",
       "2017-03-19  0.000000\n",
       "2017-03-20  0.218527\n",
       "SVFrame.err:\n",
       "                  TTF\n",
       "2017-03-01  0.000000\n",
       "2017-03-02  0.000000\n",
       "2017-03-03  0.000000\n",
       "2017-03-04  0.000000\n",
       "2017-03-05  0.000000\n",
       "2017-03-06  0.000000\n",
       "2017-03-07  0.000000\n",
       "2017-03-08  0.105892\n",
       "2017-03-09  0.000000\n",
       "2017-03-10  0.000000\n",
       "2017-03-11  0.105122\n",
       "2017-03-12  0.000000\n",
       "2017-03-13  0.000000\n",
       "2017-03-14  0.000000\n",
       "2017-03-15  0.000000\n",
       "2017-03-16  0.102589\n",
       "2017-03-17  0.000000\n",
       "2017-03-18  0.000000\n",
       "2017-03-19  0.000000\n",
       "2017-03-20  0.138212"
      ]
     },
     "execution_count": 71,
     "metadata": {},
     "output_type": "execute_result"
    }
   ],
   "source": [
    "res['delta']"
   ]
  },
  {
   "cell_type": "code",
   "execution_count": 72,
   "metadata": {
    "collapsed": false
   },
   "outputs": [
    {
     "data": {
      "text/plain": [
       "2017-03-01    SV(     -0.0000,     0.0000)\n",
       "2017-03-02    SV(     -0.0000,     0.0000)\n",
       "2017-03-03    SV(     -0.0000,     0.0000)\n",
       "2017-03-04    SV(     -0.0000,     0.0000)\n",
       "2017-03-05    SV(     -0.0000,     0.0000)\n",
       "2017-03-06    SV(     -0.0000,     0.0000)\n",
       "2017-03-07    SV(     -0.0000,     0.0000)\n",
       "2017-03-08    SV(      0.1000,     0.0949)\n",
       "2017-03-09    SV(     -0.0000,     0.0000)\n",
       "2017-03-10    SV(     -0.0000,     0.0000)\n",
       "2017-03-11    SV(      0.1000,     0.0949)\n",
       "2017-03-12    SV(     -0.0000,     0.0000)\n",
       "2017-03-13    SV(     -0.0000,     0.0000)\n",
       "2017-03-14    SV(     -0.0000,     0.0000)\n",
       "2017-03-15    SV(     -0.0000,     0.0000)\n",
       "2017-03-16    SV(      0.1000,     0.0949)\n",
       "2017-03-17    SV(     -0.0000,     0.0000)\n",
       "2017-03-18    SV(     -0.0000,     0.0000)\n",
       "2017-03-19    SV(     -0.0000,     0.0000)\n",
       "2017-03-20    SV(      0.2000,     0.1265)\n",
       "Freq: D, dtype: object"
      ]
     },
     "execution_count": 72,
     "metadata": {},
     "output_type": "execute_result"
    }
   ],
   "source": [
    "res['actions']"
   ]
  },
  {
   "cell_type": "code",
   "execution_count": 73,
   "metadata": {
    "collapsed": false
   },
   "outputs": [
    {
     "data": {
      "text/plain": [
       "VolModelBlended(_vol_blended=2017-01-01    0.45\n",
       "2017-02-01    0.45\n",
       "2017-03-01    0.45\n",
       "2017-04-01    0.45\n",
       "Freq: MS, dtype: float64, _valid_index=DatetimeIndex(['2017-01-01', '2017-02-01', '2017-03-01', '2017-04-01'], dtype='datetime64[ns]', freq='MS'), _blended_offset=14, _monthly_expiries=2017-01-01   2016-12-31\n",
       "2017-02-01   2017-01-31\n",
       "2017-03-01   2017-02-28\n",
       "2017-04-01   2017-03-31\n",
       "Freq: MS, dtype: datetime64[ns], _vol_monthly=2017-01-01    0.21\n",
       "2017-02-01    0.21\n",
       "2017-03-01    0.21\n",
       "2017-04-01    0.21\n",
       "Freq: MS, dtype: float64, implied_vols_db=2017-01-01    0.45\n",
       "2017-02-01    0.45\n",
       "2017-03-01    0.45\n",
       "2017-04-01    0.45\n",
       "Freq: MS, dtype: float64)"
      ]
     },
     "execution_count": 73,
     "metadata": {},
     "output_type": "execute_result"
    }
   ],
   "source": [
    "res['price_model'].vol_model"
   ]
  },
  {
   "cell_type": "code",
   "execution_count": 74,
   "metadata": {
    "collapsed": false
   },
   "outputs": [
    {
     "data": {
      "text/plain": [
       "(2017-03-01    0.00\n",
       " 2017-03-02    0.45\n",
       " 2017-03-03    0.45\n",
       " 2017-03-04    0.45\n",
       " 2017-03-05    0.45\n",
       " 2017-03-06    0.45\n",
       " 2017-03-07    0.45\n",
       " 2017-03-08    0.45\n",
       " 2017-03-09    0.45\n",
       " 2017-03-10    0.45\n",
       " 2017-03-11    0.45\n",
       " 2017-03-12    0.45\n",
       " 2017-03-13    0.45\n",
       " 2017-03-14    0.45\n",
       " 2017-03-15    0.45\n",
       " 2017-03-16    0.45\n",
       " 2017-03-17    0.45\n",
       " 2017-03-18    0.45\n",
       " 2017-03-19    0.45\n",
       " 2017-03-20    0.45\n",
       " Freq: D, dtype: float64, {'theta': 2017-03-01             NaN\n",
       "  2017-03-02    0.000000e+00\n",
       "  2017-03-03    0.000000e+00\n",
       "  2017-03-04    0.000000e+00\n",
       "  2017-03-05    0.000000e+00\n",
       "  2017-03-06    0.000000e+00\n",
       "  2017-03-07    0.000000e+00\n",
       "  2017-03-08    0.000000e+00\n",
       "  2017-03-09    0.000000e+00\n",
       "  2017-03-10    0.000000e+00\n",
       "  2017-03-11    0.000000e+00\n",
       "  2017-03-12    0.000000e+00\n",
       "  2017-03-13    0.000000e+00\n",
       "  2017-03-14    0.000000e+00\n",
       "  2017-03-15    0.000000e+00\n",
       "  2017-03-16    0.000000e+00\n",
       "  2017-03-17    1.407986e-15\n",
       "  2017-03-18    1.325164e-15\n",
       "  2017-03-19    1.251543e-15\n",
       "  2017-03-20    0.000000e+00\n",
       "  Freq: D, dtype: float64, 'vega_blended': 2017-03-01    0\n",
       "  2017-03-02    1\n",
       "  2017-03-03    1\n",
       "  2017-03-04    1\n",
       "  2017-03-05    1\n",
       "  2017-03-06    1\n",
       "  2017-03-07    1\n",
       "  2017-03-08    1\n",
       "  2017-03-09    1\n",
       "  2017-03-10    1\n",
       "  2017-03-11    1\n",
       "  2017-03-12    1\n",
       "  2017-03-13    1\n",
       "  2017-03-14    1\n",
       "  2017-03-15    1\n",
       "  2017-03-16    1\n",
       "  2017-03-17    1\n",
       "  2017-03-18    1\n",
       "  2017-03-19    1\n",
       "  2017-03-20    1\n",
       "  Freq: D, dtype: float64, 'vega_monthly': 2017-03-01    0\n",
       "  2017-03-02    0\n",
       "  2017-03-03    0\n",
       "  2017-03-04    0\n",
       "  2017-03-05    0\n",
       "  2017-03-06    0\n",
       "  2017-03-07    0\n",
       "  2017-03-08    0\n",
       "  2017-03-09    0\n",
       "  2017-03-10    0\n",
       "  2017-03-11    0\n",
       "  2017-03-12    0\n",
       "  2017-03-13    0\n",
       "  2017-03-14    0\n",
       "  2017-03-15    0\n",
       "  2017-03-16    0\n",
       "  2017-03-17    0\n",
       "  2017-03-18    0\n",
       "  2017-03-19    0\n",
       "  2017-03-20    0\n",
       "  Freq: D, dtype: float64})"
      ]
     },
     "execution_count": 74,
     "metadata": {},
     "output_type": "execute_result"
    }
   ],
   "source": [
    "res['price_model'].vol_model._terminal_vol(valuation_date, payoff.contract_dates, payoff.contract_dates + pd.DateOffset(-1))"
   ]
  },
  {
   "cell_type": "code",
   "execution_count": 78,
   "metadata": {
    "collapsed": false
   },
   "outputs": [
    {
     "data": {
      "text/plain": [
       "simulation_dates\n",
       "2017-03-01    25.500001\n",
       "2017-03-02    25.500203\n",
       "2017-03-03    25.500055\n",
       "2017-03-04    25.500141\n",
       "2017-03-05    25.499800\n",
       "2017-03-06    25.499536\n",
       "2017-03-07    25.499199\n",
       "2017-03-08    25.499085\n",
       "2017-03-09    25.498456\n",
       "2017-03-10    25.498428\n",
       "2017-03-11    25.498392\n",
       "2017-03-12    25.498085\n",
       "2017-03-13    25.499090\n",
       "2017-03-14    25.499054\n",
       "2017-03-15    25.498382\n",
       "2017-03-16    25.498278\n",
       "2017-03-17    25.498863\n",
       "2017-03-18    25.499108\n",
       "2017-03-19    25.498397\n",
       "2017-03-20    25.498451\n",
       "Freq: D, dtype: float64"
      ]
     },
     "execution_count": 78,
     "metadata": {},
     "output_type": "execute_result"
    }
   ],
   "source": [
    "res['spot_sims'].mean(axis=1)"
   ]
  },
  {
   "cell_type": "code",
   "execution_count": null,
   "metadata": {
    "collapsed": true
   },
   "outputs": [],
   "source": []
  }
 ],
 "metadata": {
  "kernelspec": {
   "display_name": "Python 2",
   "language": "python",
   "name": "python2"
  },
  "language_info": {
   "codemirror_mode": {
    "name": "ipython",
    "version": 2
   },
   "file_extension": ".py",
   "mimetype": "text/x-python",
   "name": "python",
   "nbconvert_exporter": "python",
   "pygments_lexer": "ipython2",
   "version": "2.7.10"
  }
 },
 "nbformat": 4,
 "nbformat_minor": 0
}
