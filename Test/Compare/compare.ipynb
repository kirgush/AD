{
 "cells": [
  {
   "cell_type": "markdown",
   "metadata": {},
   "source": [
    "# Imports"
   ]
  },
  {
   "cell_type": "code",
   "execution_count": 1,
   "metadata": {
    "collapsed": false
   },
   "outputs": [],
   "source": [
    "import pandas as pd\n",
    "import numpy as np"
   ]
  },
  {
   "cell_type": "code",
   "execution_count": 2,
   "metadata": {
    "collapsed": false
   },
   "outputs": [
    {
     "name": "stderr",
     "output_type": "stream",
     "text": [
      "C:\\dev\\bin\\Anaconda2\\envs\\1.8.6.post502\\lib\\site-packages\\gazprom\\mt\\pricing\\models\\lsmc\\_exercise.py:4: UserWarning: gazprom.mt.pricing.models.lsmc._exercise is deprecated. Please use gazprom.mt.pricing.models.exercise instead.\n",
      "  warn(\"gazprom.mt.pricing.models.lsmc._exercise is deprecated. Please use \"\n"
     ]
    }
   ],
   "source": [
    "from gazprom.mt.pricing.models.swing.fixed_price import FixedPriceSwing\n",
    "from gazprom.mt.pricing.models.swing.test.swing_market_data import build_swing\n",
    "from gazprom.mt.pricing.models.exercise import FixedDailyOffset"
   ]
  },
  {
   "cell_type": "code",
   "execution_count": 3,
   "metadata": {
    "collapsed": false
   },
   "outputs": [],
   "source": [
    "from gazprom.mt.pricing.environment.environment import Environment\n",
    "from gazprom.mt.pricing.environment.market_data import CurveData\n",
    "from gazprom.mt.pricing.models.timeseries.gbmsimulator.volatility_model import VolModelBlended\n",
    "from gazprom.mt.pricing.models.timeseries.market_data import MonthlyBlendedData"
   ]
  },
  {
   "cell_type": "markdown",
   "metadata": {
    "collapsed": true
   },
   "source": [
    "# Payoff"
   ]
  },
  {
   "cell_type": "code",
   "execution_count": 28,
   "metadata": {
    "collapsed": false
   },
   "outputs": [],
   "source": [
    "mkt = 'TTF'\n",
    "ccy = 'EUR'\n",
    "\n",
    "start_date = pd.datetime(2017, 3, 1)\n",
    "end_date = pd.datetime(2017, 3, 20)\n",
    "exercise_dates = pd.date_range(start_date, end_date, freq='D')\n",
    "tcq_max = 1.0\n",
    "tcq_min = 0.0\n",
    "dcq_max = 1.0\n",
    "dcq_min = 0.0\n",
    "\n",
    "strike = 25.5\n",
    "\n",
    "kwargs_payoff = {'strike': strike, \n",
    "                 'dcq_max': dcq_max, 'dcq_min': dcq_min, 'early_exercise': FixedDailyOffset(), \n",
    "                 'market': mkt, 'ccy': ccy, 'payoff_class': FixedPriceSwing}"
   ]
  },
  {
   "cell_type": "code",
   "execution_count": 29,
   "metadata": {
    "collapsed": false
   },
   "outputs": [],
   "source": [
    "payoff = build_swing('call', 'buy', start_date, end_date, tcq_max, tcq_min, **kwargs_payoff)"
   ]
  },
  {
   "cell_type": "code",
   "execution_count": 30,
   "metadata": {
    "collapsed": false
   },
   "outputs": [
    {
     "name": "stdout",
     "output_type": "stream",
     "text": [
      "FixedPriceSwing [buy, EUR]: market=TTF, type=call,start_date=01-Mar-2017, end_date=20-Mar-2017\n",
      "# constraints=SwingConstraints(_dcq_min=0.0, _tcq_min=1.0, _tcq_max=1.0, _dcq_max=1.0)\n",
      "# strike=\n",
      "2017-03-01    25.5\n",
      "2017-03-02    25.5\n",
      "2017-03-03    25.5\n",
      "2017-03-04    25.5\n",
      "2017-03-05    25.5\n",
      "2017-03-06    25.5\n",
      "2017-03-07    25.5\n",
      "2017-03-08    25.5\n",
      "2017-03-09    25.5\n",
      "2017-03-10    25.5\n",
      "2017-03-11    25.5\n",
      "2017-03-12    25.5\n",
      "2017-03-13    25.5\n",
      "2017-03-14    25.5\n",
      "2017-03-15    25.5\n",
      "2017-03-16    25.5\n",
      "2017-03-17    25.5\n",
      "2017-03-18    25.5\n",
      "2017-03-19    25.5\n",
      "2017-03-20    25.5\n",
      "Freq: D, dtype: float64\n"
     ]
    }
   ],
   "source": [
    "print(payoff)"
   ]
  },
  {
   "cell_type": "markdown",
   "metadata": {
    "collapsed": true
   },
   "source": [
    "# Environment"
   ]
  },
  {
   "cell_type": "code",
   "execution_count": 127,
   "metadata": {
    "collapsed": false
   },
   "outputs": [],
   "source": [
    "valuation_date = pd.datetime(2017, 2, 28)\n",
    "\n",
    "fc = pd.Series(25.5, index=pd.date_range(valuation_date, pd.datetime(2017, 3, 20)))\n",
    "\n",
    "fc.loc[pd.datetime(2017, 3, 7)] = 33.6\n",
    "fc.loc[pd.datetime(2017, 3, 14)] = 33.6\n",
    "fc.loc[pd.datetime(2017, 3, 19)] = 33.6\n",
    "\n",
    "ir = pd.Series(0.0245, index=exercise_dates)\n",
    "\n",
    "ctc = pd.date_range(pd.datetime(2017, 1, 1), pd.datetime(2017, 4, 1), freq='MS')\n",
    "ctc_expiries = pd.Series(ctc - pd.datetools.Day(), index=ctc)\n",
    "option_expiries = pd.Series(ctc - pd.datetools.MonthEnd(), index=ctc)\n",
    "\n",
    "volm = pd.Series(0.21, index=ctc)\n",
    "volb = pd.Series(0.45, index=ctc)\n",
    "\n",
    "env = Environment(valuation_date, ccy)\n",
    "env.add_price(ccy, CurveData(ir))\n",
    "env.add_price(mkt, CurveData(fc))\n",
    "# env.add_expiry_option(mkt, option_expiries)\n",
    "\n",
    "mbdata = MonthlyBlendedData(vol_monthly=volm, vol_blended=volb, option_expiry=option_expiries)\n",
    "env.add_vol(mkt, mbdata, VolModelBlended)"
   ]
  },
  {
   "cell_type": "code",
   "execution_count": 128,
   "metadata": {
    "collapsed": false
   },
   "outputs": [
    {
     "name": "stdout",
     "output_type": "stream",
     "text": [
      "Environment (intraday=False):\n",
      "## _STATE\n",
      "- currency: IdentityData: data_args={'data_type': <type 'basestring'>}, data:\n",
      "EUR\n",
      "- intraday: IdentityData: data_args={'data_type': <type 'bool'>}, data:\n",
      "False\n",
      "- pricing_date: IdentityData: data_args={'data_type': <type 'datetime.date'>}, data:\n",
      "2017-02-28 00:00:00\n",
      "## TTF\n",
      "- vol_params: IdentityData: data_args={'data_type': <type 'object'>}, data:\n",
      "{'offset': 14}\n",
      "- vol_model: VolModelFunction: vol_kwargs={'builder': 'default', 'calibrator': None}, vol_class=<class 'gazprom.mt.pricing.models.timeseries.gbmsimulator.volatility_model.VolModelBlended'>, market_data=<gazprom.mt.pricing.models.timeseries.market_data.MonthlyBlendedData object at 0x000000000D18E0B8>, builder=<gazprom.mt.pricing.environment.data_builders.DefaultDataBuilder object at 0x000000000D617EF0>, data_args={}, data:\n",
      "(KeySpec(key_type=pricing_date, apply_early=False, key=_STATE), KeySpec(key_type=vol_monthly, apply_early=False, key=TTF), KeySpec(key_type=vol_blended, apply_early=False, key=TTF), KeySpec(key_type=option_expiry, apply_early=False, key=TTF), KeySpec(key_type=vol_params, apply_early=False, key=TTF))\n",
      "- price: CurveData: builder=<gazprom.mt.pricing.environment.data_builders.DefaultDataBuilder object at 0x000000000CE8FD68>, allow_negative=False, is_corr=False, data_args={'builder': 'default'}, data:\n",
      "2017-02-28    25.5\n",
      "2017-03-01    25.5\n",
      "2017-03-02    25.5\n",
      "2017-03-03    25.5\n",
      "2017-03-04    25.5\n",
      "2017-03-05    25.5\n",
      "2017-03-06    25.5\n",
      "2017-03-07    33.6\n",
      "2017-03-08    25.5\n",
      "2017-03-09    25.5\n",
      "2017-03-10    25.5\n",
      "2017-03-11    25.5\n",
      "2017-03-12    25.5\n",
      "2017-03-13    25.5\n",
      "2017-03-14    33.6\n",
      "2017-03-15    25.5\n",
      "2017-03-16    25.5\n",
      "2017-03-17    25.5\n",
      "2017-03-18    25.5\n",
      "2017-03-19    33.6\n",
      "2017-03-20    25.5\n",
      "Freq: D, dtype: float64\n",
      "- vol_monthly: CurveData: builder=<gazprom.mt.pricing.environment.data_builders.DefaultDataBuilder object at 0x000000000D1E4748>, allow_negative=False, is_corr=False, data_args={'builder': 'default'}, data:\n",
      "2017-01-01    0.21\n",
      "2017-02-01    0.21\n",
      "2017-03-01    0.21\n",
      "2017-04-01    0.21\n",
      "Freq: MS, dtype: float64\n",
      "- vol_blended: CurveData: builder=<gazprom.mt.pricing.environment.data_builders.DefaultDataBuilder object at 0x000000000D1E4EB8>, allow_negative=False, is_corr=False, data_args={'builder': 'default'}, data:\n",
      "2017-01-01    0.45\n",
      "2017-02-01    0.45\n",
      "2017-03-01    0.45\n",
      "2017-04-01    0.45\n",
      "Freq: MS, dtype: float64\n",
      "- option_expiry: CurveData: builder=<gazprom.mt.pricing.environment.data_builders.DefaultDataBuilder object at 0x000000000D617E80>, allow_negative=False, is_corr=False, data_args={'builder': 'default'}, data:\n",
      "2017-01-01   2016-12-31\n",
      "2017-02-01   2017-01-31\n",
      "2017-03-01   2017-02-28\n",
      "2017-04-01   2017-03-31\n",
      "Freq: MS, dtype: datetime64[ns]\n",
      "## EUR\n",
      "- price: CurveData: builder=<gazprom.mt.pricing.environment.data_builders.DefaultDataBuilder object at 0x0000000003DB6B00>, allow_negative=False, is_corr=False, data_args={'builder': 'default'}, data:\n",
      "2017-03-01    0.0245\n",
      "2017-03-02    0.0245\n",
      "2017-03-03    0.0245\n",
      "2017-03-04    0.0245\n",
      "2017-03-05    0.0245\n",
      "2017-03-06    0.0245\n",
      "2017-03-07    0.0245\n",
      "2017-03-08    0.0245\n",
      "2017-03-09    0.0245\n",
      "2017-03-10    0.0245\n",
      "2017-03-11    0.0245\n",
      "2017-03-12    0.0245\n",
      "2017-03-13    0.0245\n",
      "2017-03-14    0.0245\n",
      "2017-03-15    0.0245\n",
      "2017-03-16    0.0245\n",
      "2017-03-17    0.0245\n",
      "2017-03-18    0.0245\n",
      "2017-03-19    0.0245\n",
      "2017-03-20    0.0245\n",
      "Freq: D, dtype: float64\n",
      "\n"
     ]
    }
   ],
   "source": [
    "print(env)"
   ]
  },
  {
   "cell_type": "markdown",
   "metadata": {
    "collapsed": true
   },
   "source": [
    "# Valuation"
   ]
  },
  {
   "cell_type": "code",
   "execution_count": 129,
   "metadata": {
    "collapsed": false
   },
   "outputs": [],
   "source": [
    "simulator_params = {'seed': 12321312, 'simulator': 'SimulatorOneFactor'}\n",
    "lsmc_params=dict(nsims_fwd=30000, nsims_bwd=30000)\n",
    "\n",
    "res = payoff.pv_greeks(env, simulator_params=simulator_params, lsmc_params=lsmc_params, debug=True, intrinsic=False)"
   ]
  },
  {
   "cell_type": "code",
   "execution_count": 130,
   "metadata": {
    "collapsed": false
   },
   "outputs": [
    {
     "data": {
      "text/plain": [
       "['sims',\n",
       " 'cash_strike',\n",
       " 'pv',\n",
       " 'actions_paths',\n",
       " 'triggers',\n",
       " 'lsmc_mesh',\n",
       " 'vega_monthly',\n",
       " 'fwd_sims',\n",
       " 'cash',\n",
       " 'actions',\n",
       " 'vega_blended',\n",
       " 'spot_sims',\n",
       " 'delta',\n",
       " 'theta',\n",
       " 'price_model',\n",
       " 'cashflows']"
      ]
     },
     "execution_count": 130,
     "metadata": {},
     "output_type": "execute_result"
    }
   ],
   "source": [
    "res.keys()"
   ]
  },
  {
   "cell_type": "code",
   "execution_count": 131,
   "metadata": {
    "collapsed": false
   },
   "outputs": [
    {
     "data": {
      "text/plain": [
       "SV(      8.1025,     0.0161)"
      ]
     },
     "execution_count": 131,
     "metadata": {},
     "output_type": "execute_result"
    }
   ],
   "source": [
    "res['pv']"
   ]
  },
  {
   "cell_type": "code",
   "execution_count": 132,
   "metadata": {
    "collapsed": false,
    "scrolled": true
   },
   "outputs": [
    {
     "data": {
      "text/plain": [
       "SVFrame.value:\n",
       "                  TTF\n",
       "2017-03-01  0.000000\n",
       "2017-03-02  0.000000\n",
       "2017-03-03  0.000000\n",
       "2017-03-04  0.000000\n",
       "2017-03-05  0.000000\n",
       "2017-03-06  0.000000\n",
       "2017-03-07  0.509456\n",
       "2017-03-08  0.000000\n",
       "2017-03-09  0.000000\n",
       "2017-03-10  0.000000\n",
       "2017-03-11  0.000000\n",
       "2017-03-12  0.000000\n",
       "2017-03-13  0.000000\n",
       "2017-03-14  0.150124\n",
       "2017-03-15  0.000000\n",
       "2017-03-16  0.000000\n",
       "2017-03-17  0.000000\n",
       "2017-03-18  0.000000\n",
       "2017-03-19  0.339885\n",
       "2017-03-20  0.000000\n",
       "SVFrame.err:\n",
       "                  TTF\n",
       "2017-03-01  0.000000\n",
       "2017-03-02  0.000000\n",
       "2017-03-03  0.000000\n",
       "2017-03-04  0.000000\n",
       "2017-03-05  0.000000\n",
       "2017-03-06  0.000000\n",
       "2017-03-07  0.002827\n",
       "2017-03-08  0.000000\n",
       "2017-03-09  0.000000\n",
       "2017-03-10  0.000000\n",
       "2017-03-11  0.000000\n",
       "2017-03-12  0.000000\n",
       "2017-03-13  0.000000\n",
       "2017-03-14  0.002020\n",
       "2017-03-15  0.000000\n",
       "2017-03-16  0.000000\n",
       "2017-03-17  0.000000\n",
       "2017-03-18  0.000000\n",
       "2017-03-19  0.002864\n",
       "2017-03-20  0.000000"
      ]
     },
     "execution_count": 132,
     "metadata": {},
     "output_type": "execute_result"
    }
   ],
   "source": [
    "res['delta']"
   ]
  },
  {
   "cell_type": "code",
   "execution_count": 133,
   "metadata": {
    "collapsed": false
   },
   "outputs": [
    {
     "data": {
      "text/plain": [
       "SVFrame.value:\n",
       "                  TTF\n",
       "2017-03-01  0.000000\n",
       "2017-03-02  0.000000\n",
       "2017-03-03  0.000000\n",
       "2017-03-04  0.000000\n",
       "2017-03-05  0.000000\n",
       "2017-03-06  0.000000\n",
       "2017-03-07 -0.008297\n",
       "2017-03-08  0.000000\n",
       "2017-03-09  0.000000\n",
       "2017-03-10  0.000000\n",
       "2017-03-11  0.000000\n",
       "2017-03-12  0.000000\n",
       "2017-03-13  0.000000\n",
       "2017-03-14 -0.005429\n",
       "2017-03-15  0.000000\n",
       "2017-03-16  0.000000\n",
       "2017-03-17  0.000000\n",
       "2017-03-18  0.000000\n",
       "2017-03-19  0.013941\n",
       "2017-03-20  0.000000\n",
       "SVFrame.err:\n",
       "                  TTF\n",
       "2017-03-01  0.000000\n",
       "2017-03-02  0.000000\n",
       "2017-03-03  0.000000\n",
       "2017-03-04  0.000000\n",
       "2017-03-05  0.000000\n",
       "2017-03-06  0.000000\n",
       "2017-03-07  0.000090\n",
       "2017-03-08  0.000000\n",
       "2017-03-09  0.000000\n",
       "2017-03-10  0.000000\n",
       "2017-03-11  0.000000\n",
       "2017-03-12  0.000000\n",
       "2017-03-13  0.000000\n",
       "2017-03-14  0.000245\n",
       "2017-03-15  0.000000\n",
       "2017-03-16  0.000000\n",
       "2017-03-17  0.000000\n",
       "2017-03-18  0.000000\n",
       "2017-03-19  0.000236\n",
       "2017-03-20  0.000000"
      ]
     },
     "execution_count": 133,
     "metadata": {},
     "output_type": "execute_result"
    }
   ],
   "source": [
    "res['vega_blended']"
   ]
  },
  {
   "cell_type": "code",
   "execution_count": 134,
   "metadata": {
    "collapsed": false
   },
   "outputs": [
    {
     "data": {
      "text/plain": [
       "2017-03-01    SV(     -0.0000,     0.0000)\n",
       "2017-03-02    SV(     -0.0000,     0.0000)\n",
       "2017-03-03    SV(     -0.0000,     0.0000)\n",
       "2017-03-04    SV(     -0.0000,     0.0000)\n",
       "2017-03-05    SV(     -0.0000,     0.0000)\n",
       "2017-03-06    SV(     -0.0000,     0.0000)\n",
       "2017-03-07    SV(      0.5201,     0.0029)\n",
       "2017-03-08    SV(     -0.0000,     0.0000)\n",
       "2017-03-09    SV(     -0.0000,     0.0000)\n",
       "2017-03-10    SV(     -0.0000,     0.0000)\n",
       "2017-03-11    SV(     -0.0000,     0.0000)\n",
       "2017-03-12    SV(     -0.0000,     0.0000)\n",
       "2017-03-13    SV(     -0.0000,     0.0000)\n",
       "2017-03-14    SV(      0.1586,     0.0021)\n",
       "2017-03-15    SV(     -0.0000,     0.0000)\n",
       "2017-03-16    SV(     -0.0000,     0.0000)\n",
       "2017-03-17    SV(     -0.0000,     0.0000)\n",
       "2017-03-18    SV(     -0.0000,     0.0000)\n",
       "2017-03-19    SV(      0.3213,     0.0027)\n",
       "2017-03-20    SV(     -0.0000,     0.0000)\n",
       "Freq: D, dtype: object"
      ]
     },
     "execution_count": 134,
     "metadata": {},
     "output_type": "execute_result"
    }
   ],
   "source": [
    "res['actions']"
   ]
  },
  {
   "cell_type": "code",
   "execution_count": 135,
   "metadata": {
    "collapsed": false
   },
   "outputs": [
    {
     "data": {
      "text/plain": [
       "VolModelBlended(_vol_blended=2017-01-01    0.45\n",
       "2017-02-01    0.45\n",
       "2017-03-01    0.45\n",
       "2017-04-01    0.45\n",
       "Freq: MS, dtype: float64, _valid_index=DatetimeIndex(['2017-01-01', '2017-02-01', '2017-03-01', '2017-04-01'], dtype='datetime64[ns]', freq='MS'), _blended_offset=14, _monthly_expiries=2017-01-01   2016-12-31\n",
       "2017-02-01   2017-01-31\n",
       "2017-03-01   2017-02-28\n",
       "2017-04-01   2017-03-31\n",
       "Freq: MS, dtype: datetime64[ns], _vol_monthly=2017-01-01    0.21\n",
       "2017-02-01    0.21\n",
       "2017-03-01    0.21\n",
       "2017-04-01    0.21\n",
       "Freq: MS, dtype: float64, implied_vols_db=2017-01-01    0.45\n",
       "2017-02-01    0.45\n",
       "2017-03-01    0.45\n",
       "2017-04-01    0.45\n",
       "Freq: MS, dtype: float64)"
      ]
     },
     "execution_count": 135,
     "metadata": {},
     "output_type": "execute_result"
    }
   ],
   "source": [
    "res['price_model'].vol_model"
   ]
  },
  {
   "cell_type": "code",
   "execution_count": 136,
   "metadata": {
    "collapsed": false
   },
   "outputs": [
    {
     "data": {
      "text/plain": [
       "(2017-03-01    0.45\n",
       " 2017-03-02    0.45\n",
       " 2017-03-03    0.45\n",
       " 2017-03-04    0.45\n",
       " 2017-03-05    0.45\n",
       " 2017-03-06    0.45\n",
       " 2017-03-07    0.45\n",
       " 2017-03-08    0.45\n",
       " 2017-03-09    0.45\n",
       " 2017-03-10    0.45\n",
       " 2017-03-11    0.45\n",
       " 2017-03-12    0.45\n",
       " 2017-03-13    0.45\n",
       " 2017-03-14    0.45\n",
       " 2017-03-15    0.45\n",
       " 2017-03-16    0.45\n",
       " 2017-03-17    0.45\n",
       " 2017-03-18    0.45\n",
       " 2017-03-19    0.45\n",
       " 2017-03-20    0.45\n",
       " Freq: D, dtype: float64, {'theta': 2017-03-01    0.000000e+00\n",
       "  2017-03-02    0.000000e+00\n",
       "  2017-03-03    0.000000e+00\n",
       "  2017-03-04    5.631946e-15\n",
       "  2017-03-05    0.000000e+00\n",
       "  2017-03-06    3.754630e-15\n",
       "  2017-03-07    3.218255e-15\n",
       "  2017-03-08    2.815973e-15\n",
       "  2017-03-09    2.503087e-15\n",
       "  2017-03-10    0.000000e+00\n",
       "  2017-03-11    0.000000e+00\n",
       "  2017-03-12    0.000000e+00\n",
       "  2017-03-13    0.000000e+00\n",
       "  2017-03-14    0.000000e+00\n",
       "  2017-03-15    0.000000e+00\n",
       "  2017-03-16    0.000000e+00\n",
       "  2017-03-17    0.000000e+00\n",
       "  2017-03-18    1.251543e-15\n",
       "  2017-03-19    0.000000e+00\n",
       "  2017-03-20    0.000000e+00\n",
       "  Freq: D, dtype: float64, 'vega_blended': 2017-03-01    1\n",
       "  2017-03-02    1\n",
       "  2017-03-03    1\n",
       "  2017-03-04    1\n",
       "  2017-03-05    1\n",
       "  2017-03-06    1\n",
       "  2017-03-07    1\n",
       "  2017-03-08    1\n",
       "  2017-03-09    1\n",
       "  2017-03-10    1\n",
       "  2017-03-11    1\n",
       "  2017-03-12    1\n",
       "  2017-03-13    1\n",
       "  2017-03-14    1\n",
       "  2017-03-15    1\n",
       "  2017-03-16    1\n",
       "  2017-03-17    1\n",
       "  2017-03-18    1\n",
       "  2017-03-19    1\n",
       "  2017-03-20    1\n",
       "  Freq: D, dtype: float64, 'vega_monthly': 2017-03-01    0\n",
       "  2017-03-02    0\n",
       "  2017-03-03    0\n",
       "  2017-03-04    0\n",
       "  2017-03-05    0\n",
       "  2017-03-06    0\n",
       "  2017-03-07    0\n",
       "  2017-03-08    0\n",
       "  2017-03-09    0\n",
       "  2017-03-10    0\n",
       "  2017-03-11    0\n",
       "  2017-03-12    0\n",
       "  2017-03-13    0\n",
       "  2017-03-14    0\n",
       "  2017-03-15    0\n",
       "  2017-03-16    0\n",
       "  2017-03-17    0\n",
       "  2017-03-18    0\n",
       "  2017-03-19    0\n",
       "  2017-03-20    0\n",
       "  Freq: D, dtype: float64})"
      ]
     },
     "execution_count": 136,
     "metadata": {},
     "output_type": "execute_result"
    }
   ],
   "source": [
    "res['price_model'].vol_model.terminal_vol(valuation_date, payoff.contract_dates, payoff.contract_dates + pd.DateOffset(0))"
   ]
  },
  {
   "cell_type": "code",
   "execution_count": 137,
   "metadata": {
    "collapsed": false
   },
   "outputs": [
    {
     "data": {
      "text/plain": [
       "simulation_dates\n",
       "2017-03-01    25.500000\n",
       "2017-03-02    25.499965\n",
       "2017-03-03    25.499750\n",
       "2017-03-04    25.499568\n",
       "2017-03-05    25.499680\n",
       "2017-03-06    25.499478\n",
       "2017-03-07    33.599326\n",
       "2017-03-08    25.499749\n",
       "2017-03-09    25.499560\n",
       "2017-03-10    25.499199\n",
       "2017-03-11    25.499200\n",
       "2017-03-12    25.499713\n",
       "2017-03-13    25.500249\n",
       "2017-03-14    33.600473\n",
       "2017-03-15    25.500790\n",
       "2017-03-16    25.500629\n",
       "2017-03-17    25.500701\n",
       "2017-03-18    25.501452\n",
       "2017-03-19    33.602415\n",
       "2017-03-20    25.501696\n",
       "Freq: D, dtype: float64"
      ]
     },
     "execution_count": 137,
     "metadata": {},
     "output_type": "execute_result"
    }
   ],
   "source": [
    "res['spot_sims'].mean(axis=1)"
   ]
  },
  {
   "cell_type": "code",
   "execution_count": 138,
   "metadata": {
    "collapsed": false
   },
   "outputs": [
    {
     "data": {
      "text/plain": [
       "TTF    0.999465\n",
       "dtype: float64"
      ]
     },
     "execution_count": 138,
     "metadata": {},
     "output_type": "execute_result"
    }
   ],
   "source": [
    "res['delta'].value.sum()"
   ]
  },
  {
   "cell_type": "code",
   "execution_count": 139,
   "metadata": {
    "collapsed": false
   },
   "outputs": [
    {
     "data": {
      "text/plain": [
       "{1.0}"
      ]
     },
     "execution_count": 139,
     "metadata": {},
     "output_type": "execute_result"
    }
   ],
   "source": [
    "set(res['actions_paths'].sum(axis=0))"
   ]
  },
  {
   "cell_type": "code",
   "execution_count": 140,
   "metadata": {
    "collapsed": false
   },
   "outputs": [
    {
     "data": {
      "text/plain": [
       "2017-03-01        0\n",
       "2017-03-02        0\n",
       "2017-03-03        0\n",
       "2017-03-04        0\n",
       "2017-03-05        0\n",
       "2017-03-06        0\n",
       "2017-03-07    15603\n",
       "2017-03-08        0\n",
       "2017-03-09        0\n",
       "2017-03-10        0\n",
       "2017-03-11        0\n",
       "2017-03-12        0\n",
       "2017-03-13        0\n",
       "2017-03-14     4757\n",
       "2017-03-15        0\n",
       "2017-03-16        0\n",
       "2017-03-17        0\n",
       "2017-03-18        0\n",
       "2017-03-19     9640\n",
       "2017-03-20        0\n",
       "Freq: D, dtype: float64"
      ]
     },
     "execution_count": 140,
     "metadata": {},
     "output_type": "execute_result"
    }
   ],
   "source": [
    "res['actions_paths'].sum(axis=1)"
   ]
  },
  {
   "cell_type": "code",
   "execution_count": 142,
   "metadata": {
    "collapsed": false
   },
   "outputs": [
    {
     "data": {
      "text/plain": [
       "[0.5201, 0.15856666666666666, 0.32133333333333336]"
      ]
     },
     "execution_count": 142,
     "metadata": {},
     "output_type": "execute_result"
    }
   ],
   "source": [
    "[15603/30000., 4757/30000., 9640/30000.]"
   ]
  },
  {
   "cell_type": "code",
   "execution_count": null,
   "metadata": {
    "collapsed": true
   },
   "outputs": [],
   "source": []
  }
 ],
 "metadata": {
  "kernelspec": {
   "display_name": "Python 2",
   "language": "python",
   "name": "python2"
  },
  "language_info": {
   "codemirror_mode": {
    "name": "ipython",
    "version": 2
   },
   "file_extension": ".py",
   "mimetype": "text/x-python",
   "name": "python",
   "nbconvert_exporter": "python",
   "pygments_lexer": "ipython2",
   "version": "2.7.10"
  }
 },
 "nbformat": 4,
 "nbformat_minor": 0
}
